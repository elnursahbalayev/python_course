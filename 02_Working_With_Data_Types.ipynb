{
  "nbformat": 4,
  "nbformat_minor": 0,
  "metadata": {
    "colab": {
      "name": "02_Working With Data Types.ipynb",
      "provenance": [],
      "authorship_tag": "ABX9TyOF4gYnVbCi7QFYFQd1tbAz",
      "include_colab_link": true
    },
    "kernelspec": {
      "name": "python3",
      "display_name": "Python 3"
    },
    "language_info": {
      "name": "python"
    }
  },
  "cells": [
    {
      "cell_type": "markdown",
      "metadata": {
        "id": "view-in-github",
        "colab_type": "text"
      },
      "source": [
        "<a href=\"https://colab.research.google.com/github/aliyusifov99/python_course/blob/main/02_Working_With_Data_Types.ipynb\" target=\"_parent\"><img src=\"https://colab.research.google.com/assets/colab-badge.svg\" alt=\"Open In Colab\"/></a>"
      ]
    },
    {
      "cell_type": "markdown",
      "source": [
        "# Python Data Types\n",
        "* String\n",
        "* Integer\n",
        "* Float\n",
        "* Boolean"
      ],
      "metadata": {
        "id": "nwkeNhbhGhvF"
      }
    },
    {
      "cell_type": "markdown",
      "source": [
        "## String"
      ],
      "metadata": {
        "id": "IWUscDf8HCxH"
      }
    },
    {
      "cell_type": "code",
      "source": [
        "print(\"Hello UTP\")"
      ],
      "metadata": {
        "colab": {
          "base_uri": "https://localhost:8080/"
        },
        "id": "PR0sNZVaGnmQ",
        "outputId": "3cf430f3-d553-4565-8501-0710f06bfbb7"
      },
      "execution_count": 58,
      "outputs": [
        {
          "output_type": "stream",
          "name": "stdout",
          "text": [
            "Hello UTP\n"
          ]
        }
      ]
    },
    {
      "cell_type": "code",
      "source": [
        "print(\"Hello UTP\"[0])"
      ],
      "metadata": {
        "colab": {
          "base_uri": "https://localhost:8080/"
        },
        "id": "jqZphHTxHGHv",
        "outputId": "86b6a618-2d1a-4624-c503-238ef213c705"
      },
      "execution_count": 59,
      "outputs": [
        {
          "output_type": "stream",
          "name": "stdout",
          "text": [
            "H\n"
          ]
        }
      ]
    },
    {
      "cell_type": "markdown",
      "source": [
        "How would you find the letter U?"
      ],
      "metadata": {
        "id": "hWr-lTAzHbda"
      }
    },
    {
      "cell_type": "code",
      "source": [
        "print(\"Hello UTP\"[6])"
      ],
      "metadata": {
        "colab": {
          "base_uri": "https://localhost:8080/"
        },
        "id": "UjxUiv26HNHD",
        "outputId": "e52ff81e-1a5a-4ffc-f282-00e01d227393"
      },
      "execution_count": 60,
      "outputs": [
        {
          "output_type": "stream",
          "name": "stdout",
          "text": [
            "U\n"
          ]
        }
      ]
    },
    {
      "cell_type": "code",
      "source": [
        "print(\"123\" + \"456\")"
      ],
      "metadata": {
        "colab": {
          "base_uri": "https://localhost:8080/"
        },
        "id": "dvRbPFbQHUoX",
        "outputId": "cb8e503e-88a1-434f-9a82-e7db7404f9fe"
      },
      "execution_count": 14,
      "outputs": [
        {
          "output_type": "stream",
          "name": "stdout",
          "text": [
            "123456\n"
          ]
        }
      ]
    },
    {
      "cell_type": "markdown",
      "source": [
        "## Integer"
      ],
      "metadata": {
        "id": "uVi2Th2OH39I"
      }
    },
    {
      "cell_type": "code",
      "source": [
        "print(123)"
      ],
      "metadata": {
        "colab": {
          "base_uri": "https://localhost:8080/"
        },
        "id": "Z2HZQmi6HugU",
        "outputId": "0a79ddfe-d6b9-448d-9f3d-4f13c7f91662"
      },
      "execution_count": 15,
      "outputs": [
        {
          "output_type": "stream",
          "name": "stdout",
          "text": [
            "123\n"
          ]
        }
      ]
    },
    {
      "cell_type": "code",
      "source": [
        "print(123 + 456)"
      ],
      "metadata": {
        "colab": {
          "base_uri": "https://localhost:8080/"
        },
        "id": "M_rKabtqH62Z",
        "outputId": "a388dfa2-f514-41aa-86d8-f216f31e43a9"
      },
      "execution_count": 16,
      "outputs": [
        {
          "output_type": "stream",
          "name": "stdout",
          "text": [
            "579\n"
          ]
        }
      ]
    },
    {
      "cell_type": "markdown",
      "source": [
        "Large numbers can be written with _"
      ],
      "metadata": {
        "id": "iyPyx7_BIYb8"
      }
    },
    {
      "cell_type": "code",
      "source": [
        "123456789"
      ],
      "metadata": {
        "colab": {
          "base_uri": "https://localhost:8080/"
        },
        "id": "s3hL1Z-5H8w7",
        "outputId": "5f801bf0-18f2-4cd3-bf67-68e7591e4731"
      },
      "execution_count": 17,
      "outputs": [
        {
          "output_type": "execute_result",
          "data": {
            "text/plain": [
              "123456789"
            ]
          },
          "metadata": {},
          "execution_count": 17
        }
      ]
    },
    {
      "cell_type": "code",
      "source": [
        "123_456_789"
      ],
      "metadata": {
        "colab": {
          "base_uri": "https://localhost:8080/"
        },
        "id": "2v6tmTslIedA",
        "outputId": "0e5ad9f3-fa37-4d21-eba5-40e12017eee2"
      },
      "execution_count": 18,
      "outputs": [
        {
          "output_type": "execute_result",
          "data": {
            "text/plain": [
              "123456789"
            ]
          },
          "metadata": {},
          "execution_count": 18
        }
      ]
    },
    {
      "cell_type": "markdown",
      "source": [
        "## Float"
      ],
      "metadata": {
        "id": "zgNekfL-In8u"
      }
    },
    {
      "cell_type": "code",
      "source": [
        "5.2342"
      ],
      "metadata": {
        "colab": {
          "base_uri": "https://localhost:8080/"
        },
        "id": "3quWIe5KIhAJ",
        "outputId": "1abb41a8-65b5-4a77-f2a2-87eb20aa5ad9"
      },
      "execution_count": 19,
      "outputs": [
        {
          "output_type": "execute_result",
          "data": {
            "text/plain": [
              "5.2342"
            ]
          },
          "metadata": {},
          "execution_count": 19
        }
      ]
    },
    {
      "cell_type": "markdown",
      "source": [
        "## Boolean\n",
        "* True\n",
        "* False"
      ],
      "metadata": {
        "id": "PWUjbKF7IvvX"
      }
    },
    {
      "cell_type": "code",
      "source": [
        "False"
      ],
      "metadata": {
        "colab": {
          "base_uri": "https://localhost:8080/"
        },
        "id": "NSAWaghhIuRg",
        "outputId": "52714ad0-6961-48cb-d567-25126fe78d9d"
      },
      "execution_count": 20,
      "outputs": [
        {
          "output_type": "execute_result",
          "data": {
            "text/plain": [
              "False"
            ]
          },
          "metadata": {},
          "execution_count": 20
        }
      ]
    },
    {
      "cell_type": "code",
      "source": [
        "True"
      ],
      "metadata": {
        "colab": {
          "base_uri": "https://localhost:8080/"
        },
        "id": "iZ3rDeXLJKdf",
        "outputId": "83bd92d4-8fef-4cb5-8fdc-57e8fd69fdd8"
      },
      "execution_count": 21,
      "outputs": [
        {
          "output_type": "execute_result",
          "data": {
            "text/plain": [
              "True"
            ]
          },
          "metadata": {},
          "execution_count": 21
        }
      ]
    },
    {
      "cell_type": "code",
      "source": [
        "homework_done = False\n",
        "homework_done"
      ],
      "metadata": {
        "colab": {
          "base_uri": "https://localhost:8080/"
        },
        "id": "c1CctcqqJLNC",
        "outputId": "a3d965f6-ce04-4568-f9b4-813594b35d29"
      },
      "execution_count": 23,
      "outputs": [
        {
          "output_type": "execute_result",
          "data": {
            "text/plain": [
              "False"
            ]
          },
          "metadata": {},
          "execution_count": 23
        }
      ]
    },
    {
      "cell_type": "markdown",
      "source": [
        "## Type function"
      ],
      "metadata": {
        "id": "kORa8BQ1KGq9"
      }
    },
    {
      "cell_type": "code",
      "source": [
        "print(type(123))"
      ],
      "metadata": {
        "colab": {
          "base_uri": "https://localhost:8080/"
        },
        "id": "ZKgH9EH9JPT1",
        "outputId": "393676ee-c45f-4019-e27a-fdf69d4a1522"
      },
      "execution_count": 24,
      "outputs": [
        {
          "output_type": "stream",
          "name": "stdout",
          "text": [
            "<class 'int'>\n"
          ]
        }
      ]
    },
    {
      "cell_type": "code",
      "source": [
        "print(type('UTP'))"
      ],
      "metadata": {
        "colab": {
          "base_uri": "https://localhost:8080/"
        },
        "id": "0rOuBTVdKMkm",
        "outputId": "90a775bc-277f-408c-f8b0-150922598936"
      },
      "execution_count": 25,
      "outputs": [
        {
          "output_type": "stream",
          "name": "stdout",
          "text": [
            "<class 'str'>\n"
          ]
        }
      ]
    },
    {
      "cell_type": "code",
      "source": [
        "print(type(homework_done))"
      ],
      "metadata": {
        "colab": {
          "base_uri": "https://localhost:8080/"
        },
        "id": "L3nKcrxAKQJq",
        "outputId": "bafe5710-6605-4a71-bd8b-8a20150ce8a2"
      },
      "execution_count": 26,
      "outputs": [
        {
          "output_type": "stream",
          "name": "stdout",
          "text": [
            "<class 'bool'>\n"
          ]
        }
      ]
    },
    {
      "cell_type": "code",
      "source": [
        "num = len(input(\"What is your UTP ID number? \"))\n",
        "print('Your UTP ID has' + num + \"digits in it\")"
      ],
      "metadata": {
        "colab": {
          "base_uri": "https://localhost:8080/",
          "height": 205
        },
        "id": "2vz3gTowKTcW",
        "outputId": "02174f6e-c606-4400-a64a-1e8e6360fbcb"
      },
      "execution_count": 27,
      "outputs": [
        {
          "name": "stdout",
          "output_type": "stream",
          "text": [
            "What is your UTP ID number? 4\n"
          ]
        },
        {
          "output_type": "error",
          "ename": "TypeError",
          "evalue": "ignored",
          "traceback": [
            "\u001b[0;31m---------------------------------------------------------------------------\u001b[0m",
            "\u001b[0;31mTypeError\u001b[0m                                 Traceback (most recent call last)",
            "\u001b[0;32m<ipython-input-27-42754fb07492>\u001b[0m in \u001b[0;36m<module>\u001b[0;34m()\u001b[0m\n\u001b[1;32m      1\u001b[0m \u001b[0mnum\u001b[0m \u001b[0;34m=\u001b[0m \u001b[0mlen\u001b[0m\u001b[0;34m(\u001b[0m\u001b[0minput\u001b[0m\u001b[0;34m(\u001b[0m\u001b[0;34m\"What is your UTP ID number? \"\u001b[0m\u001b[0;34m)\u001b[0m\u001b[0;34m)\u001b[0m\u001b[0;34m\u001b[0m\u001b[0;34m\u001b[0m\u001b[0m\n\u001b[0;32m----> 2\u001b[0;31m \u001b[0mprint\u001b[0m\u001b[0;34m(\u001b[0m\u001b[0;34m'Your UTP ID has'\u001b[0m \u001b[0;34m+\u001b[0m \u001b[0mnum\u001b[0m \u001b[0;34m+\u001b[0m \u001b[0;34m\"digits in it\"\u001b[0m\u001b[0;34m)\u001b[0m\u001b[0;34m\u001b[0m\u001b[0;34m\u001b[0m\u001b[0m\n\u001b[0m",
            "\u001b[0;31mTypeError\u001b[0m: can only concatenate str (not \"int\") to str"
          ]
        }
      ]
    },
    {
      "cell_type": "code",
      "source": [
        "type(num)"
      ],
      "metadata": {
        "colab": {
          "base_uri": "https://localhost:8080/"
        },
        "id": "Yj2fuwBtY21j",
        "outputId": "33d4b89b-904a-45a5-a927-de607e346e72"
      },
      "execution_count": 28,
      "outputs": [
        {
          "output_type": "execute_result",
          "data": {
            "text/plain": [
              "int"
            ]
          },
          "metadata": {},
          "execution_count": 28
        }
      ]
    },
    {
      "cell_type": "code",
      "source": [
        "type(str(num))"
      ],
      "metadata": {
        "colab": {
          "base_uri": "https://localhost:8080/"
        },
        "id": "LVI9arD1Y6an",
        "outputId": "c00899b3-5964-47b8-a443-70db4b2765c2"
      },
      "execution_count": 29,
      "outputs": [
        {
          "output_type": "execute_result",
          "data": {
            "text/plain": [
              "str"
            ]
          },
          "metadata": {},
          "execution_count": 29
        }
      ]
    },
    {
      "cell_type": "code",
      "source": [
        "num = len(input(\"What is your UTP ID number? \"))\n",
        "print('Your UTP ID has ' + str(num) + ' digit in it')"
      ],
      "metadata": {
        "colab": {
          "base_uri": "https://localhost:8080/"
        },
        "id": "YooBd75VZEjz",
        "outputId": "757c0142-8ceb-4f3a-f6b8-7108814b1dd0"
      },
      "execution_count": 31,
      "outputs": [
        {
          "output_type": "stream",
          "name": "stdout",
          "text": [
            "What is your UTP ID number? 18003701\n",
            "Your UTP ID has 8 digit in it\n"
          ]
        }
      ]
    },
    {
      "cell_type": "code",
      "source": [
        "a = 123\n",
        "type(a)"
      ],
      "metadata": {
        "colab": {
          "base_uri": "https://localhost:8080/"
        },
        "id": "e_QYLFlwZL-4",
        "outputId": "22f2cc86-6feb-49e5-88ca-efbd96313163"
      },
      "execution_count": 32,
      "outputs": [
        {
          "output_type": "execute_result",
          "data": {
            "text/plain": [
              "int"
            ]
          },
          "metadata": {},
          "execution_count": 32
        }
      ]
    },
    {
      "cell_type": "code",
      "source": [
        "b = input('enter a number: ')"
      ],
      "metadata": {
        "colab": {
          "base_uri": "https://localhost:8080/"
        },
        "id": "ZQJSOEheZx8T",
        "outputId": "ea128fe9-bc71-4829-9552-8d8900e24ca7"
      },
      "execution_count": 35,
      "outputs": [
        {
          "name": "stdout",
          "output_type": "stream",
          "text": [
            "enter a number: 5\n"
          ]
        }
      ]
    },
    {
      "cell_type": "code",
      "source": [
        "a + b"
      ],
      "metadata": {
        "colab": {
          "base_uri": "https://localhost:8080/",
          "height": 169
        },
        "id": "vo46mHXrZ2EB",
        "outputId": "e0689b19-82c2-4f03-f5ed-4a72653002f5"
      },
      "execution_count": 36,
      "outputs": [
        {
          "output_type": "error",
          "ename": "TypeError",
          "evalue": "ignored",
          "traceback": [
            "\u001b[0;31m---------------------------------------------------------------------------\u001b[0m",
            "\u001b[0;31mTypeError\u001b[0m                                 Traceback (most recent call last)",
            "\u001b[0;32m<ipython-input-36-bd58363a63fc>\u001b[0m in \u001b[0;36m<module>\u001b[0;34m()\u001b[0m\n\u001b[0;32m----> 1\u001b[0;31m \u001b[0ma\u001b[0m \u001b[0;34m+\u001b[0m \u001b[0mb\u001b[0m\u001b[0;34m\u001b[0m\u001b[0;34m\u001b[0m\u001b[0m\n\u001b[0m",
            "\u001b[0;31mTypeError\u001b[0m: unsupported operand type(s) for +: 'int' and 'str'"
          ]
        }
      ]
    },
    {
      "cell_type": "code",
      "source": [
        "type(b)"
      ],
      "metadata": {
        "colab": {
          "base_uri": "https://localhost:8080/"
        },
        "id": "GUmZ1jOKZ7zY",
        "outputId": "cd2156cc-e076-4ff4-8c46-46e7b41e11f7"
      },
      "execution_count": 37,
      "outputs": [
        {
          "output_type": "execute_result",
          "data": {
            "text/plain": [
              "str"
            ]
          },
          "metadata": {},
          "execution_count": 37
        }
      ]
    },
    {
      "cell_type": "code",
      "source": [
        "a + int(b)"
      ],
      "metadata": {
        "colab": {
          "base_uri": "https://localhost:8080/"
        },
        "id": "8Vh76d3-Z_XB",
        "outputId": "71733a9d-8223-44c6-a131-8553d56b8080"
      },
      "execution_count": 38,
      "outputs": [
        {
          "output_type": "execute_result",
          "data": {
            "text/plain": [
              "128"
            ]
          },
          "metadata": {},
          "execution_count": 38
        }
      ]
    },
    {
      "cell_type": "code",
      "source": [
        "a = 5\n",
        "b = 3.798\n",
        "a + b"
      ],
      "metadata": {
        "colab": {
          "base_uri": "https://localhost:8080/"
        },
        "id": "VyJYQwjgaCq7",
        "outputId": "5913f237-042a-4ead-a06e-1029da81c910"
      },
      "execution_count": 39,
      "outputs": [
        {
          "output_type": "execute_result",
          "data": {
            "text/plain": [
              "8.798"
            ]
          },
          "metadata": {},
          "execution_count": 39
        }
      ]
    },
    {
      "cell_type": "code",
      "source": [
        "str(a) + str(b)"
      ],
      "metadata": {
        "colab": {
          "base_uri": "https://localhost:8080/",
          "height": 36
        },
        "id": "5GaHavwTaIi5",
        "outputId": "849c0b5a-7071-4d7f-f757-775a99a34d54"
      },
      "execution_count": 40,
      "outputs": [
        {
          "output_type": "execute_result",
          "data": {
            "application/vnd.google.colaboratory.intrinsic+json": {
              "type": "string"
            },
            "text/plain": [
              "'53.798'"
            ]
          },
          "metadata": {},
          "execution_count": 40
        }
      ]
    },
    {
      "cell_type": "markdown",
      "source": [
        "## Exercise 1\n",
        "\n",
        "Write a code that multiplies the digits in a 2 digit number. If the input was 28, then the output should be 2 * 8 = 16\n",
        "\n",
        "Example Input:\n",
        "\n",
        "41\n",
        "\n",
        "Example Output:\n",
        "\n",
        "4 * 1 = 4"
      ],
      "metadata": {
        "id": "ymeADnZGaZcu"
      }
    },
    {
      "cell_type": "code",
      "source": [
        "number = input('Please enter a 2 digit number: ')\n",
        "type(number)"
      ],
      "metadata": {
        "colab": {
          "base_uri": "https://localhost:8080/"
        },
        "id": "Kdhtj3CuaRC-",
        "outputId": "a4bb37b2-4121-4da6-bcc0-511e3c8f87e6"
      },
      "execution_count": 53,
      "outputs": [
        {
          "name": "stdout",
          "output_type": "stream",
          "text": [
            "Please enter a 2 digit number: 28\n"
          ]
        },
        {
          "output_type": "execute_result",
          "data": {
            "text/plain": [
              "str"
            ]
          },
          "metadata": {},
          "execution_count": 53
        }
      ]
    },
    {
      "cell_type": "code",
      "source": [
        "first_digit = number[0]\n",
        "second_digit = number[1]\n",
        "answer = str(int(first_digit) * int(second_digit))\n",
        "first_digit,second_digit,answer"
      ],
      "metadata": {
        "colab": {
          "base_uri": "https://localhost:8080/"
        },
        "id": "HLUMWstPbYKj",
        "outputId": "44d75046-bfd4-4320-b1a7-66f00252de8b"
      },
      "execution_count": 54,
      "outputs": [
        {
          "output_type": "execute_result",
          "data": {
            "text/plain": [
              "('2', '8', '16')"
            ]
          },
          "metadata": {},
          "execution_count": 54
        }
      ]
    },
    {
      "cell_type": "code",
      "source": [
        "print(first_digit + \" * \" + second_digit + \" = \" + answer)"
      ],
      "metadata": {
        "colab": {
          "base_uri": "https://localhost:8080/"
        },
        "id": "8u9qEdcubevH",
        "outputId": "8fa200fd-5f78-4196-a0ac-3b3c5329f56f"
      },
      "execution_count": 55,
      "outputs": [
        {
          "output_type": "stream",
          "name": "stdout",
          "text": [
            "2 * 8 = 16\n"
          ]
        }
      ]
    },
    {
      "cell_type": "markdown",
      "source": [
        "# Mathematical Operations"
      ],
      "metadata": {
        "id": "AfJnAyzUc6Ad"
      }
    },
    {
      "cell_type": "code",
      "source": [
        "print(4 + 8)\n",
        "print(9 - 2)\n",
        "print(4 * 3)\n",
        "print(9 / 3)\n",
        "print(8 / 5)\n",
        "print(2 ** 2)"
      ],
      "metadata": {
        "colab": {
          "base_uri": "https://localhost:8080/"
        },
        "id": "uaWajkn8buZd",
        "outputId": "320f4a23-eaa2-4f07-891f-d4b62a1cb4a7"
      },
      "execution_count": 62,
      "outputs": [
        {
          "output_type": "stream",
          "name": "stdout",
          "text": [
            "12\n",
            "7\n",
            "12\n",
            "3.0\n",
            "1.6\n",
            "4\n"
          ]
        }
      ]
    },
    {
      "cell_type": "code",
      "source": [
        "3 * 3 + 3 / 3 - 3"
      ],
      "metadata": {
        "colab": {
          "base_uri": "https://localhost:8080/"
        },
        "id": "Qrxv4EledO9f",
        "outputId": "3162b81e-321a-4bd8-adc0-d8be45357d11"
      },
      "execution_count": 63,
      "outputs": [
        {
          "output_type": "execute_result",
          "data": {
            "text/plain": [
              "7.0"
            ]
          },
          "metadata": {},
          "execution_count": 63
        }
      ]
    },
    {
      "cell_type": "code",
      "source": [
        "3 * (3 + 3) / 3 - 3"
      ],
      "metadata": {
        "colab": {
          "base_uri": "https://localhost:8080/"
        },
        "id": "WvwDCIo4fioK",
        "outputId": "2f855654-c2c9-4584-92d6-b12b9323638a"
      },
      "execution_count": 64,
      "outputs": [
        {
          "output_type": "execute_result",
          "data": {
            "text/plain": [
              "3.0"
            ]
          },
          "metadata": {},
          "execution_count": 64
        }
      ]
    },
    {
      "cell_type": "markdown",
      "source": [
        "## Exercise 2: Age Calculator\n",
        "\n",
        "Ask the user to input the year they was born and find their age.\n",
        "\n",
        "Example Input:\n",
        "\n",
        "1999\n",
        "\n",
        "Example Output:\n",
        "\n",
        "You are 23 years old."
      ],
      "metadata": {
        "id": "Pq2gltikfp_g"
      }
    },
    {
      "cell_type": "code",
      "source": [
        "year_born = int(input('Birth year: '))\n",
        "current_year = 2022\n",
        "age = current_year - year_born\n",
        "print('You are ' + str(age) + ' years old')"
      ],
      "metadata": {
        "colab": {
          "base_uri": "https://localhost:8080/"
        },
        "id": "qnrSvACCfm0F",
        "outputId": "6996a92b-0641-49c4-ec0a-18f0d574c824"
      },
      "execution_count": 70,
      "outputs": [
        {
          "output_type": "stream",
          "name": "stdout",
          "text": [
            "Birth year: 1999\n",
            "You are 23 years old\n"
          ]
        }
      ]
    },
    {
      "cell_type": "code",
      "source": [
        "print(f'You are {age} years old')"
      ],
      "metadata": {
        "colab": {
          "base_uri": "https://localhost:8080/"
        },
        "id": "OrA7_KzEgYjs",
        "outputId": "e719c226-c562-4834-b88f-c4bb63ae11ac"
      },
      "execution_count": 71,
      "outputs": [
        {
          "output_type": "stream",
          "name": "stdout",
          "text": [
            "You are 23 years old\n"
          ]
        }
      ]
    },
    {
      "cell_type": "markdown",
      "source": [
        "## Exercise 3: BMI calculator\n",
        "Ask the user their height and weight and give back their BMI. BMI = weight(kg) / height^2 (m^2)\n",
        "\n",
        "Example Input:\n",
        "\n",
        "height(cm) = 175\n",
        "\n",
        "weight(kg) = 68\n",
        "\n",
        "Example Output:\n",
        "\n",
        "Your BMI is 22"
      ],
      "metadata": {
        "id": "fjQd_MXyhHLy"
      }
    },
    {
      "cell_type": "code",
      "source": [
        "height_cm = int(input('Height(cm): '))\n",
        "weight_kg = int(input('Weight(kg): '))\n",
        "\n",
        "height_m = height_cm / 100\n",
        "BMI = weight_kg / (height_m ** 2)\n",
        "\n",
        "print(f'Your BMI is {BMI}')"
      ],
      "metadata": {
        "colab": {
          "base_uri": "https://localhost:8080/"
        },
        "id": "j9QcPe46hDxj",
        "outputId": "973f75f3-3e64-42e1-9350-a14e50cbac7d"
      },
      "execution_count": 72,
      "outputs": [
        {
          "output_type": "stream",
          "name": "stdout",
          "text": [
            "Height(cm): 175\n",
            "Weight(kg): 68\n",
            "Your BMI is 22.20408163265306\n"
          ]
        }
      ]
    },
    {
      "cell_type": "code",
      "source": [
        "height_cm = int(input('Height(cm): '))\n",
        "weight_kg = int(input('Weight(kg): '))\n",
        "\n",
        "height_m = height_cm / 100\n",
        "BMI = weight_kg / (height_m ** 2)\n",
        "BMI = round(BMI)\n",
        "\n",
        "print(f'Your BMI is {BMI}')"
      ],
      "metadata": {
        "colab": {
          "base_uri": "https://localhost:8080/"
        },
        "id": "-q58IjwNi4ga",
        "outputId": "be5b30dd-21a3-4377-f2e5-d55d3782415a"
      },
      "execution_count": 73,
      "outputs": [
        {
          "output_type": "stream",
          "name": "stdout",
          "text": [
            "Height(cm): 175\n",
            "Weight(kg): 68\n",
            "Your BMI is 22\n"
          ]
        }
      ]
    },
    {
      "cell_type": "markdown",
      "source": [
        "# Number manipulation"
      ],
      "metadata": {
        "id": "eLLTw7qwjlNV"
      }
    },
    {
      "cell_type": "code",
      "source": [
        "print(8 / 3)\n",
        "print(8 // 3)\n",
        "print(round(8 / 3))\n",
        "print(round(8 / 3, 2))"
      ],
      "metadata": {
        "colab": {
          "base_uri": "https://localhost:8080/"
        },
        "id": "Gv34vMSwjCC0",
        "outputId": "44d5a47e-3ed6-4ea0-fcca-1a044af9dbab"
      },
      "execution_count": 81,
      "outputs": [
        {
          "output_type": "stream",
          "name": "stdout",
          "text": [
            "2.6666666666666665\n",
            "2\n",
            "3\n",
            "2.67\n"
          ]
        }
      ]
    },
    {
      "cell_type": "code",
      "source": [
        "score = 0\n",
        "score = score + 1\n",
        "print(score)"
      ],
      "metadata": {
        "colab": {
          "base_uri": "https://localhost:8080/"
        },
        "id": "ggfA24s6jg0j",
        "outputId": "7bab5389-4a1a-444e-c537-7b9105aac4ba"
      },
      "execution_count": 83,
      "outputs": [
        {
          "output_type": "stream",
          "name": "stdout",
          "text": [
            "1\n"
          ]
        }
      ]
    },
    {
      "cell_type": "code",
      "source": [
        "score = 0\n",
        "score += 1\n",
        "print(score)"
      ],
      "metadata": {
        "colab": {
          "base_uri": "https://localhost:8080/"
        },
        "id": "_wo1wnRukUO6",
        "outputId": "83e27311-6da9-41a2-992e-04fbe58efba5"
      },
      "execution_count": 84,
      "outputs": [
        {
          "output_type": "stream",
          "name": "stdout",
          "text": [
            "1\n"
          ]
        }
      ]
    },
    {
      "cell_type": "markdown",
      "source": [
        "## Exercise 4: Life time calculator\n",
        "\n",
        "Write a program that asks the current age and calculate the time life if you have lived till age 80.\n",
        "\n",
        "Example Input:\n",
        "\n",
        "Your age: 56\n",
        "\n",
        "Example Output: \n",
        "\n",
        "You have 8760 days, 1248 weeks, or 288 months left"
      ],
      "metadata": {
        "id": "2ROksWvdkzFz"
      }
    },
    {
      "cell_type": "code",
      "source": [
        "# Ask the current age\n",
        "current_age = input('Your age: ')\n",
        "oldest_age = 80\n",
        "# Find the age difference\n",
        "age_difference = oldest_age - int(current_age)\n",
        "# Convert it to days, weeks and months\n",
        "days = age_difference * 365\n",
        "weeks = age_difference * 52\n",
        "months = age_difference * 12\n",
        "# Print the needed output\n",
        "print(f'You have {days} days, {weeks} weeks or {months} months left')"
      ],
      "metadata": {
        "colab": {
          "base_uri": "https://localhost:8080/"
        },
        "id": "bvp5C-z6kZEp",
        "outputId": "3e6d92bb-00c4-4f3f-8783-39c89b3e0d0b"
      },
      "execution_count": 88,
      "outputs": [
        {
          "output_type": "stream",
          "name": "stdout",
          "text": [
            "Your age: 56\n",
            "You have 8760 days, 1248 weeks or 288 months left\n"
          ]
        }
      ]
    },
    {
      "cell_type": "markdown",
      "source": [
        "# Final Project: Tip Calculator\n",
        "\n",
        "\n",
        "\n",
        "```\n",
        "Welcome to the tip calculator.\n",
        "What was the total bill?: RM 124\n",
        "What percentage tip would you like to give?: 10\n",
        "How many people to split the bill?: 3\n",
        "Each person should pay: RM 19.93\n",
        "```\n",
        "\n"
      ],
      "metadata": {
        "id": "EMbwvEhJmy5w"
      }
    },
    {
      "cell_type": "code",
      "source": [
        "#Print the greeting\n",
        "print(\"Welcome to the tip calculator.\")\n",
        "#Ask for total bill\n",
        "total_bill = float(input('What was the total bill?: RM '))\n",
        "#Ask for percentage\n",
        "percentage = float(input('What percentage tip would you like to give?: '))\n",
        "#Calculate total bill with percentage\n",
        "tip = total_bill * percentage / 100\n",
        "total_with_tip = total_bill + tip\n",
        "#Ask for number of people\n",
        "num_people = int(input('How many people to split the bill?: '))\n",
        "#Calculate bill for each and print\n",
        "each_person_bill = round(total_with_tip / num_people,2)\n",
        "print(f'Each person should pay: RM {each_person_bill}')"
      ],
      "metadata": {
        "colab": {
          "base_uri": "https://localhost:8080/"
        },
        "id": "4FCj_SjBmR-H",
        "outputId": "8a3c37bd-269d-4dc1-ed06-f6db26bfccfc"
      },
      "execution_count": 90,
      "outputs": [
        {
          "output_type": "stream",
          "name": "stdout",
          "text": [
            "Welcome to the tip calculator.\n",
            "What was the total bill?: RM 124.56\n",
            "What percentage tip would you like to give?: 12\n",
            "How many people to split the bill?: 7\n",
            "Each person should pay: RM 19.9296\n"
          ]
        }
      ]
    },
    {
      "cell_type": "code",
      "source": [
        ""
      ],
      "metadata": {
        "id": "7B4F5oLloSm7"
      },
      "execution_count": null,
      "outputs": []
    }
  ]
}