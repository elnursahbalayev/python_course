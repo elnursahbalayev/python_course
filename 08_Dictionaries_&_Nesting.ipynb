{
  "nbformat": 4,
  "nbformat_minor": 0,
  "metadata": {
    "colab": {
      "name": "08_Dictionaries_&_Nesting.ipynb",
      "provenance": [],
      "authorship_tag": "ABX9TyOVE9ep6HHXnjrHEHa0xnYe",
      "include_colab_link": true
    },
    "kernelspec": {
      "name": "python3",
      "display_name": "Python 3"
    },
    "language_info": {
      "name": "python"
    }
  },
  "cells": [
    {
      "cell_type": "markdown",
      "metadata": {
        "id": "view-in-github",
        "colab_type": "text"
      },
      "source": [
        "<a href=\"https://colab.research.google.com/github/aliyusifov99/python_course/blob/main/08_Dictionaries_%26_Nesting.ipynb\" target=\"_parent\"><img src=\"https://colab.research.google.com/assets/colab-badge.svg\" alt=\"Open In Colab\"/></a>"
      ]
    },
    {
      "cell_type": "markdown",
      "source": [
        "# Dictionaries and Nesting"
      ],
      "metadata": {
        "id": "lfKh_Ke0SdkV"
      }
    },
    {
      "cell_type": "markdown",
      "source": [
        "## What we will cover\n",
        "- Dictionaries \n",
        "- Nesting\n",
        "\n",
        "\n",
        "Project\n",
        "- Auction Program"
      ],
      "metadata": {
        "id": "yDXne5sAi2oC"
      }
    },
    {
      "cell_type": "markdown",
      "source": [
        "## Dictionary"
      ],
      "metadata": {
        "id": "EHcAL_4qjC4T"
      }
    },
    {
      "cell_type": "markdown",
      "source": [
        "Dictionaries allow to group things together\n",
        "- Two main component: key and value\n"
      ],
      "metadata": {
        "id": "6WSbKHDWjLzr"
      }
    },
    {
      "cell_type": "code",
      "source": [
        "word_dictionary={'key':'a small piece of shaped metal with incisions cut to fit the wards of a particular lock, which is inserted into a lock and turned to open or close it.',\n",
        "                 'tape':'a narrow strip of material, typically used to hold or fasten something', \n",
        "                 'pen':'an instrument for writing or drawing with ink, typically consisting of a metal nib or ball, or a nylon'}"
      ],
      "metadata": {
        "id": "e_RZGoP3j-nx"
      },
      "execution_count": 2,
      "outputs": []
    },
    {
      "cell_type": "code",
      "source": [
        "word_dictionary['key']\n",
        "#key typo is very important\n",
        "# word_dictionary['kay']"
      ],
      "metadata": {
        "colab": {
          "base_uri": "https://localhost:8080/",
          "height": 35
        },
        "id": "BfhwtdB0kSlO",
        "outputId": "fd8283cb-7647-458f-b04a-bf1308e0ae70"
      },
      "execution_count": 3,
      "outputs": [
        {
          "output_type": "execute_result",
          "data": {
            "application/vnd.google.colaboratory.intrinsic+json": {
              "type": "string"
            },
            "text/plain": [
              "'a small piece of shaped metal with incisions cut to fit the wards of a particular lock, which is inserted into a lock and turned to open or close it.'"
            ]
          },
          "metadata": {},
          "execution_count": 3
        }
      ]
    },
    {
      "cell_type": "code",
      "source": [
        "# data type is important, you can use any data type"
      ],
      "metadata": {
        "id": "dGzz0sQ8ks9p"
      },
      "execution_count": 4,
      "outputs": []
    },
    {
      "cell_type": "code",
      "source": [
        "# adding new item\n",
        "word_dictionary['ruler']='a straight strip or cylinder of plastic, wood, metal, or other rigid material, typically marked at regular intervals and used to draw straight lines or measure distances.'"
      ],
      "metadata": {
        "id": "_PO9R7TLlHFP"
      },
      "execution_count": 5,
      "outputs": []
    },
    {
      "cell_type": "code",
      "source": [
        "print(word_dictionary)"
      ],
      "metadata": {
        "colab": {
          "base_uri": "https://localhost:8080/"
        },
        "id": "k1r2dFV4lT9T",
        "outputId": "4530d323-5b26-48c5-aa5c-4839eae25869"
      },
      "execution_count": 6,
      "outputs": [
        {
          "output_type": "stream",
          "name": "stdout",
          "text": [
            "{'key': 'a small piece of shaped metal with incisions cut to fit the wards of a particular lock, which is inserted into a lock and turned to open or close it.', 'tape': 'a narrow strip of material, typically used to hold or fasten something', 'pen': 'an instrument for writing or drawing with ink, typically consisting of a metal nib or ball, or a nylon', 'ruler': 'a straight strip or cylinder of plastic, wood, metal, or other rigid material, typically marked at regular intervals and used to draw straight lines or measure distances.'}\n"
          ]
        }
      ]
    },
    {
      "cell_type": "code",
      "source": [
        "empty_dictionary={}"
      ],
      "metadata": {
        "id": "NL3DPFqalVbp"
      },
      "execution_count": 7,
      "outputs": []
    },
    {
      "cell_type": "code",
      "source": [
        "#wipe existing dictionary\n",
        "word_dictionary={}"
      ],
      "metadata": {
        "id": "zISqosyGlZhI"
      },
      "execution_count": 8,
      "outputs": []
    },
    {
      "cell_type": "code",
      "source": [
        "#change a value\n",
        "word_dictionary['ruler']='a person exercising government or dominion.'"
      ],
      "metadata": {
        "id": "FXrcICCclfHs"
      },
      "execution_count": 9,
      "outputs": []
    },
    {
      "cell_type": "code",
      "source": [
        "word_dictionary={'key':'a small piece of shaped metal with incisions cut to fit the wards of a particular lock, which is inserted into a lock and turned to open or close it.',\n",
        "                 'tape':'a narrow strip of material, typically used to hold or fasten something', \n",
        "                 'pen':'an instrument for writing or drawing with ink, typically consisting of a metal nib or ball, or a nylon'}"
      ],
      "metadata": {
        "id": "8qy0wOrVly5N"
      },
      "execution_count": 10,
      "outputs": []
    },
    {
      "cell_type": "code",
      "source": [
        "#loop\n",
        "for word in word_dictionary:\n",
        "  print(word)"
      ],
      "metadata": {
        "colab": {
          "base_uri": "https://localhost:8080/"
        },
        "id": "wLyE2TWZl8Ge",
        "outputId": "6548386f-7841-45f5-953d-5f0128301a73"
      },
      "execution_count": 12,
      "outputs": [
        {
          "output_type": "stream",
          "name": "stdout",
          "text": [
            "key\n",
            "tape\n",
            "pen\n"
          ]
        }
      ]
    },
    {
      "cell_type": "markdown",
      "source": [
        "## Exercise #1"
      ],
      "metadata": {
        "id": "Sh_z6TJ9mBmy"
      }
    },
    {
      "cell_type": "markdown",
      "source": [
        "In this exercise we will build a grading system. The grades are already given but we need to convert them. \n",
        "- Scores 91 - 100: Grade = \"A\"\n",
        "\n",
        "- Scores 81 - 90: Grade = \"B\"\n",
        "\n",
        "- Scores 71 - 80: Grade = \"C\"\n",
        "\n",
        "- Scores 70 or lower: Grade = \"F\"\n"
      ],
      "metadata": {
        "id": "psHa0DX_mQil"
      }
    },
    {
      "cell_type": "code",
      "source": [
        "student_scores = {\n",
        "  \"Harry\": 81,\n",
        "  \"Ron\": 78,\n",
        "  \"Hermione\": 99, \n",
        "  \"Draco\": 74,\n",
        "  \"Neville\": 62,\n",
        "}\n",
        "#write your code below:\n",
        "\n",
        "\n",
        "print(student_grades)\n"
      ],
      "metadata": {
        "id": "hyddrfbBnFfR"
      },
      "execution_count": null,
      "outputs": []
    },
    {
      "cell_type": "markdown",
      "source": [
        "## Soution "
      ],
      "metadata": {
        "id": "9Wl1wyf0nM-J"
      }
    },
    {
      "cell_type": "code",
      "source": [
        "student_scores = {\n",
        "  \"Ali\": 81,\n",
        "  \"Haziq\": 79,\n",
        "  \"Jey\": 95, \n",
        "  \"Ronaldo\": 74,\n",
        "  \"Mario\": 61,\n",
        "}\n",
        "#write your code below:\n",
        "for student in student_scores:\n",
        "  if student_scores[student]>90:\n",
        "    student_scores[student]='A'\n",
        "  elif student_scores[student]>80:\n",
        "    student_scores[student]='B'\n",
        "  elif student_scores[student]>70:\n",
        "    student_scores[student]='C'\n",
        "  else:\n",
        "    student_scores[student]='F'\n",
        "\n",
        "\n",
        "print(student_scores)\n"
      ],
      "metadata": {
        "colab": {
          "base_uri": "https://localhost:8080/"
        },
        "id": "h1uqL9aPnOqT",
        "outputId": "15367ba4-82df-4f3d-819e-07bc8c6b981c"
      },
      "execution_count": 13,
      "outputs": [
        {
          "output_type": "stream",
          "name": "stdout",
          "text": [
            "{'Ali': 'B', 'Haziq': 'C', 'Jey': 'A', 'Ronaldo': 'C', 'Mario': 'F'}\n"
          ]
        }
      ]
    },
    {
      "cell_type": "markdown",
      "source": [
        "## Nesting "
      ],
      "metadata": {
        "id": "c1qPgkSe0per"
      }
    },
    {
      "cell_type": "code",
      "source": [
        "#nesting list in a dictionary\n",
        "travel_cities={\n",
        "    'France':['Paris', 'Lille', 'Dijon'],\n",
        "    'Germany':['Berlin', 'Frankfurt']\n",
        "}"
      ],
      "metadata": {
        "id": "ghThJHwU0wHv"
      },
      "execution_count": 14,
      "outputs": []
    },
    {
      "cell_type": "code",
      "source": [
        "#nesting a dictionary  in a dictionary\n",
        "travel_cities={\n",
        "    'France': {'cities_visited' :['Paris', 'Lille', 'Dijon'], 'total_visites':12},\n",
        "    'Germany':['Berlin', 'Frankfurt'],\n",
        "}"
      ],
      "metadata": {
        "id": "3ibrZTW01QYV"
      },
      "execution_count": 15,
      "outputs": []
    },
    {
      "cell_type": "code",
      "source": [
        "#nesting a dictionary in a list\n",
        "travel_cities=[\n",
        "    {'country':'France', 'cities_visited' :['Paris', 'Lille', 'Dijon'],'total_visites':12},\n",
        "    {'country':'Berlin', 'cities_visited' :['Berlin', 'Frankfurt'],'total_visites':6}\n",
        "]"
      ],
      "metadata": {
        "id": "2CA-XJuO1sr_"
      },
      "execution_count": null,
      "outputs": []
    },
    {
      "cell_type": "markdown",
      "source": [
        "## Exercise #2"
      ],
      "metadata": {
        "id": "CNq3lt8o2RvU"
      }
    },
    {
      "cell_type": "markdown",
      "source": [
        "In this exercise we will add new entry to our trave cities list but not manually using function."
      ],
      "metadata": {
        "id": "8UmGOwDp2VgT"
      }
    },
    {
      "cell_type": "code",
      "source": [
        "travel_cities=[\n",
        "    {'country':'France', \n",
        "     'cities_visited' :['Paris', 'Lille', 'Dijon']\n",
        "     ,'total_visites':12},\n",
        "\n",
        "    {'country':'Berlin', 'cities_visited' \n",
        "     :['Berlin', 'Frankfurt'],\n",
        "     'total_visites':6}\n",
        "]\n",
        "\n",
        "def add_new_visit(country, cities_visited, total_visits):\n",
        "  new_entry={'country':country,'cities_visited': cities_visited, 'total_visits': total_visits }\n",
        "  travel_cities.append(new_entry)\n",
        "  print(f'You have visited {country} {total_visits} times')\n",
        "  \n"
      ],
      "metadata": {
        "id": "GYW15Wi020dE"
      },
      "execution_count": 18,
      "outputs": []
    },
    {
      "cell_type": "code",
      "source": [
        "add_new_visit('Malaysia', ['Kuala Lumpur','Ipoh', 'Seri Iskandar'], 2)"
      ],
      "metadata": {
        "id": "ft-4CXNP4S9l",
        "outputId": "ec403a91-caf9-4f1e-cdb2-33a410e32982",
        "colab": {
          "base_uri": "https://localhost:8080/"
        }
      },
      "execution_count": 21,
      "outputs": [
        {
          "output_type": "stream",
          "name": "stdout",
          "text": [
            "You have visited Malaysia 2 times\n"
          ]
        }
      ]
    },
    {
      "cell_type": "code",
      "source": [
        "travel_cities"
      ],
      "metadata": {
        "id": "OUAaqR9H4cy_",
        "outputId": "d592c878-73b7-4ab6-d118-e41f619a2419",
        "colab": {
          "base_uri": "https://localhost:8080/"
        }
      },
      "execution_count": 22,
      "outputs": [
        {
          "output_type": "execute_result",
          "data": {
            "text/plain": [
              "[{'cities_visited': ['Paris', 'Lille', 'Dijon'],\n",
              "  'country': 'France',\n",
              "  'total_visites': 12},\n",
              " {'cities_visited': ['Berlin', 'Frankfurt'],\n",
              "  'country': 'Berlin',\n",
              "  'total_visites': 6},\n",
              " {'cities_visited': ['Kuala Lumpur', 'Ipoh', 'Seri Iskandar'],\n",
              "  'country': 'Malaysia',\n",
              "  'total_visits': '2'},\n",
              " {'cities_visited': ['Kuala Lumpur', 'Ipoh', 'Seri Iskandar'],\n",
              "  'country': 'Malaysia',\n",
              "  'total_visits': 2}]"
            ]
          },
          "metadata": {},
          "execution_count": 22
        }
      ]
    },
    {
      "cell_type": "markdown",
      "source": [
        "## Project - Secret Auction"
      ],
      "metadata": {
        "id": "I3FQon9q4lt5"
      }
    },
    {
      "cell_type": "markdown",
      "source": [
        "In this project we will build simple auction program. In this application  users will insert their names and bid they want to give. Programm will define who wins the auuction. For this one we need to use another website. "
      ],
      "metadata": {
        "id": "UNm8t7l64wNx"
      }
    },
    {
      "cell_type": "markdown",
      "source": [
        "## Solution"
      ],
      "metadata": {
        "id": "FZ5a1ETr5X4c"
      }
    },
    {
      "cell_type": "code",
      "source": [
        "# from replit import clear\n",
        "\n",
        "# bids = {}\n",
        "# bidding_finished = False\n",
        "\n",
        "# def find_highest_bidder(bidding_record):\n",
        "#   highest_bid = 0\n",
        "#   winner = \"\"\n",
        "#   # bidding_record = {\"Angela\": 123, \"James\": 321}\n",
        "#   for bidder in bidding_record:\n",
        "#     bid_amount = bidding_record[bidder]\n",
        "#     if bid_amount > highest_bid: \n",
        "#       highest_bid = bid_amount \n",
        "#       winner = bidder\n",
        "#   print(f\"The winner is {winner} with a bid of ${highest_bid}\")\n",
        "\n",
        "# while not bidding_finished:\n",
        "#   name = input(\"What is your name?: \")\n",
        "#   price = int(input(\"What is your bid?: $\"))\n",
        "#   bids[name] = price\n",
        "#   should_continue = input(\"Are there any other bidders? Type 'yes or 'no'.\\n\")\n",
        "#   if should_continue == \"no\":\n",
        "#     bidding_finished = True\n",
        "#     find_highest_bidder(bids)\n",
        "#   elif should_continue == \"yes\":\n",
        "#     clear()\n",
        "  "
      ],
      "metadata": {
        "id": "1ZQ9f2VI6UkN"
      },
      "execution_count": null,
      "outputs": []
    }
  ]
}