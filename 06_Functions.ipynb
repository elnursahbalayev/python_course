{
  "nbformat": 4,
  "nbformat_minor": 0,
  "metadata": {
    "colab": {
      "name": "06_Functions.ipynb",
      "provenance": [],
      "authorship_tag": "ABX9TyOdmQgwekYkyYWKnjZPfmTc",
      "include_colab_link": true
    },
    "kernelspec": {
      "name": "python3",
      "display_name": "Python 3"
    },
    "language_info": {
      "name": "python"
    }
  },
  "cells": [
    {
      "cell_type": "markdown",
      "metadata": {
        "id": "view-in-github",
        "colab_type": "text"
      },
      "source": [
        "<a href=\"https://colab.research.google.com/github/aliyusifov99/python_course/blob/main/06_Functions.ipynb\" target=\"_parent\"><img src=\"https://colab.research.google.com/assets/colab-badge.svg\" alt=\"Open In Colab\"/></a>"
      ]
    },
    {
      "cell_type": "markdown",
      "source": [
        "# Functions & Indentation"
      ],
      "metadata": {
        "id": "ZKVlV3RpJDuy"
      }
    },
    {
      "cell_type": "code",
      "execution_count": null,
      "metadata": {
        "id": "8xxE5v5uAdqV"
      },
      "outputs": [],
      "source": [
        "# Functions used before\n",
        "len()\n",
        "round()\n",
        "print()\n",
        "input()"
      ]
    },
    {
      "cell_type": "code",
      "source": [
        "def greet():\n",
        "  print('Hello Ali')\n",
        "  print('How are you today Ali?')\n",
        "  print('Python is getting more interesting right?')"
      ],
      "metadata": {
        "id": "x4JT5TqmMZ0A"
      },
      "execution_count": null,
      "outputs": []
    },
    {
      "cell_type": "code",
      "source": [
        "greet()"
      ],
      "metadata": {
        "colab": {
          "base_uri": "https://localhost:8080/"
        },
        "id": "34YVyepWM6-j",
        "outputId": "5e53720e-9460-4648-835b-0fa07b0abeaa"
      },
      "execution_count": null,
      "outputs": [
        {
          "output_type": "stream",
          "name": "stdout",
          "text": [
            "Hello Ali\n",
            "How are you today Muammal?\n",
            "Python is getting more interesting right?\n"
          ]
        }
      ]
    },
    {
      "cell_type": "code",
      "source": [
        "greet()"
      ],
      "metadata": {
        "colab": {
          "base_uri": "https://localhost:8080/"
        },
        "id": "WSmV6egpM8oZ",
        "outputId": "f8e45e73-db5c-4f4d-dcd5-cc5b9bb2f9fb"
      },
      "execution_count": null,
      "outputs": [
        {
          "output_type": "stream",
          "name": "stdout",
          "text": [
            "Hello Ali\n",
            "How are you today Muammal?\n",
            "Python is getting more interesting right?\n"
          ]
        }
      ]
    },
    {
      "cell_type": "code",
      "source": [
        "def greet_with_name(name):\n",
        "  print(f'Hello {name}')\n",
        "  print(f'How are you today {name}')\n",
        "  print('Python is getting more interesting right?')\n"
      ],
      "metadata": {
        "id": "XHhK18y5M-MI"
      },
      "execution_count": null,
      "outputs": []
    },
    {
      "cell_type": "code",
      "source": [
        "greet_with_name()"
      ],
      "metadata": {
        "colab": {
          "base_uri": "https://localhost:8080/",
          "height": 169
        },
        "id": "tL7KkejoNO9U",
        "outputId": "ee2df3e2-af13-4eaf-be45-11914c02f391"
      },
      "execution_count": null,
      "outputs": [
        {
          "output_type": "error",
          "ename": "TypeError",
          "evalue": "ignored",
          "traceback": [
            "\u001b[0;31m---------------------------------------------------------------------------\u001b[0m",
            "\u001b[0;31mTypeError\u001b[0m                                 Traceback (most recent call last)",
            "\u001b[0;32m<ipython-input-11-f8b6360282ea>\u001b[0m in \u001b[0;36m<module>\u001b[0;34m()\u001b[0m\n\u001b[0;32m----> 1\u001b[0;31m \u001b[0mgreet_with_name\u001b[0m\u001b[0;34m(\u001b[0m\u001b[0;34m)\u001b[0m\u001b[0;34m\u001b[0m\u001b[0;34m\u001b[0m\u001b[0m\n\u001b[0m",
            "\u001b[0;31mTypeError\u001b[0m: greet_with_name() missing 1 required positional argument: 'name'"
          ]
        }
      ]
    },
    {
      "cell_type": "code",
      "source": [
        "greet_with_name('Elnur')"
      ],
      "metadata": {
        "colab": {
          "base_uri": "https://localhost:8080/"
        },
        "id": "YfBoX_jvNRdz",
        "outputId": "bf6e6e94-f7be-45a4-f173-71f180453b48"
      },
      "execution_count": null,
      "outputs": [
        {
          "output_type": "stream",
          "name": "stdout",
          "text": [
            "Hello Elnur\n",
            "How are you today Elnur\n",
            "Python is getting more interesting right?\n"
          ]
        }
      ]
    },
    {
      "cell_type": "code",
      "source": [
        "def greet_with_name(name, location):\n",
        "  print(f'Hello {name}')\n",
        "  print(f'What is the weather like in {location}?')\n",
        "\n",
        "greet_with_name('Elnur', 'Kuala Lumpur')"
      ],
      "metadata": {
        "colab": {
          "base_uri": "https://localhost:8080/"
        },
        "id": "pJIgXdIbNgh6",
        "outputId": "69f559c2-32d2-4f1a-e586-fb1691028043"
      },
      "execution_count": null,
      "outputs": [
        {
          "output_type": "stream",
          "name": "stdout",
          "text": [
            "Hello Elnur\n",
            "What is the weather like in Kuala Lumpur?\n"
          ]
        }
      ]
    },
    {
      "cell_type": "code",
      "source": [
        "greet_with_name('Kuala Lumpur', 'Elnur')"
      ],
      "metadata": {
        "colab": {
          "base_uri": "https://localhost:8080/"
        },
        "id": "9UQOvTPZOWmz",
        "outputId": "f8a44c27-86a4-40b4-b040-61d0ed93d2d0"
      },
      "execution_count": null,
      "outputs": [
        {
          "output_type": "stream",
          "name": "stdout",
          "text": [
            "Hello Kuala Lumpur\n",
            "What is the weather like in Elnur?\n"
          ]
        }
      ]
    },
    {
      "cell_type": "code",
      "source": [
        "greet_with_name(location='Kuala Lumpur', name='Elnur')"
      ],
      "metadata": {
        "colab": {
          "base_uri": "https://localhost:8080/"
        },
        "id": "yAOwCatSOas2",
        "outputId": "383b557c-8a8c-48da-b80e-4ac2c7489271"
      },
      "execution_count": null,
      "outputs": [
        {
          "output_type": "stream",
          "name": "stdout",
          "text": [
            "Hello Elnur\n",
            "What is the weather like in Kuala Lumpur?\n"
          ]
        }
      ]
    },
    {
      "cell_type": "markdown",
      "source": [
        "## Exercise 1: Volume and Area calculator\n",
        "\n",
        "Write a code to get the side of a cube and find its volume and area"
      ],
      "metadata": {
        "id": "RUEc63pFPLZ7"
      }
    },
    {
      "cell_type": "code",
      "source": [
        "def area(s):\n",
        "  a = 6 * (s ** 2)\n",
        "  return a\n",
        "\n",
        "def volume(s):\n",
        "  v = s ** 3\n",
        "  return v"
      ],
      "metadata": {
        "colab": {
          "base_uri": "https://localhost:8080/"
        },
        "id": "DcV4KrUtP2iy",
        "outputId": "4e8fd2b3-34a0-4cc3-cd20-246bd6873953"
      },
      "execution_count": null,
      "outputs": [
        {
          "name": "stdout",
          "output_type": "stream",
          "text": [
            "Side of a cube: 5\n"
          ]
        }
      ]
    },
    {
      "cell_type": "code",
      "source": [
        "print(area(5))\n",
        "print(volume(5))"
      ],
      "metadata": {
        "colab": {
          "base_uri": "https://localhost:8080/"
        },
        "id": "pMaqTXfPQS_w",
        "outputId": "a7400e3c-860d-4855-c067-4bb4063d6389"
      },
      "execution_count": null,
      "outputs": [
        {
          "output_type": "stream",
          "name": "stdout",
          "text": [
            "150\n",
            "125\n"
          ]
        }
      ]
    },
    {
      "cell_type": "markdown",
      "source": [
        "# While Loop\n",
        "\n",
        "Do something continuously while condition is true."
      ],
      "metadata": {
        "id": "46pOEH38LOJa"
      }
    },
    {
      "cell_type": "code",
      "source": [
        "while 5 > 3:\n",
        "  3+5"
      ],
      "metadata": {
        "colab": {
          "base_uri": "https://localhost:8080/",
          "height": 187
        },
        "id": "-kAsotU2LQB5",
        "outputId": "f31a61fd-5016-4752-f2eb-b448438c8894"
      },
      "execution_count": null,
      "outputs": [
        {
          "output_type": "error",
          "ename": "KeyboardInterrupt",
          "evalue": "ignored",
          "traceback": [
            "\u001b[0;31m---------------------------------------------------------------------------\u001b[0m",
            "\u001b[0;31mKeyboardInterrupt\u001b[0m                         Traceback (most recent call last)",
            "\u001b[0;32m<ipython-input-4-598c90d8462b>\u001b[0m in \u001b[0;36m<module>\u001b[0;34m()\u001b[0m\n\u001b[0;32m----> 1\u001b[0;31m \u001b[0;32mwhile\u001b[0m \u001b[0;36m5\u001b[0m \u001b[0;34m>\u001b[0m \u001b[0;36m3\u001b[0m\u001b[0;34m:\u001b[0m\u001b[0;34m\u001b[0m\u001b[0;34m\u001b[0m\u001b[0m\n\u001b[0m\u001b[1;32m      2\u001b[0m   \u001b[0;36m3\u001b[0m\u001b[0;34m+\u001b[0m\u001b[0;36m5\u001b[0m\u001b[0;34m\u001b[0m\u001b[0;34m\u001b[0m\u001b[0m\n",
            "\u001b[0;31mKeyboardInterrupt\u001b[0m: "
          ]
        }
      ]
    },
    {
      "cell_type": "markdown",
      "source": [
        "## Exercise 2: Prime number checker\n",
        "Write a program that finds prime numbers from 1 till the specified number by user.\n",
        "\n",
        "Hint: You may want to use % sign"
      ],
      "metadata": {
        "id": "0O1eiN9RgRYt"
      }
    },
    {
      "cell_type": "code",
      "source": [
        "# Ask for the number\n",
        "num = int(input('Type a positive integer bigger than 1: '))\n",
        "# Find the prime numbers and print them\n",
        "def prime_number_checker(num):\n",
        "  number_is_prime = True\n",
        "  for i in range (2, num):\n",
        "      if num % i == 0:\n",
        "        number_is_prime = False\n",
        "  if number_is_prime == True:\n",
        "    print(f'{num} is prime number')\n",
        "  else:\n",
        "    print(f'{num} is not prime number')\n",
        "\n",
        "prime_number_checker(num)"
      ],
      "metadata": {
        "id": "F0_Xrz24LphV",
        "colab": {
          "base_uri": "https://localhost:8080/"
        },
        "outputId": "26d8eb35-d4cb-403c-c28b-77bdfedd47e3"
      },
      "execution_count": 9,
      "outputs": [
        {
          "output_type": "stream",
          "name": "stdout",
          "text": [
            "Type a positive integer: 15\n",
            "15 is not prime number\n"
          ]
        }
      ]
    },
    {
      "cell_type": "markdown",
      "source": [
        "## Exercise 3: Days of the year\n",
        "Write a program that takes the year as input and gives back the number of days that year had. \n",
        "\n",
        "Hint: Normal years have 365 days but:\n",
        "\n",
        "1) If year is divisible by 4 it has 366 days.\n",
        "\n",
        "2) If year is divisible by 4 and 100 then it has 365 days\n",
        "\n",
        "3) If year is divisible by 4 and 100 and 400 at the same time then it has 366 days."
      ],
      "metadata": {
        "id": "quu0ZN6hxk0i"
      }
    },
    {
      "cell_type": "code",
      "source": [
        "def days_calculator(given_year):\n",
        "  is_365 = True\n",
        "  if given_year % 4 == 0:\n",
        "      if given_year % 100 == 0:\n",
        "        if given_year % 400 == 0:\n",
        "          is_365 = False\n",
        "        else:\n",
        "          is_365 = True\n",
        "      else:\n",
        "          is_365 = False\n",
        "  else:\n",
        "    is_365 = True\n",
        "  return is_365\n",
        "\n",
        "year = int(input('Enter the year: '))\n",
        "is_short_year = days_calculator(year)\n",
        "if is_short_year == True:\n",
        "  print(f'Year {year} has 365 days')\n",
        "elif is_short_year == False:\n",
        "  print(f'Year {year} has 366 days')\n",
        "\n",
        "    "
      ],
      "metadata": {
        "colab": {
          "base_uri": "https://localhost:8080/"
        },
        "id": "1OS_OWk1yaYL",
        "outputId": "f9b53785-31e6-48f6-9bf0-ba607996afff"
      },
      "execution_count": 27,
      "outputs": [
        {
          "output_type": "stream",
          "name": "stdout",
          "text": [
            "Enter the year: 2020\n",
            "Year 2020 has 366 days\n"
          ]
        }
      ]
    },
    {
      "cell_type": "markdown",
      "source": [
        "# Final Project: Caesar Cipher\n"
      ],
      "metadata": {
        "id": "0S_TS18BQcU1"
      }
    },
    {
      "cell_type": "code",
      "source": [
        "# alphabet = ['a', 'b', 'c', 'd', 'e', 'f', 'g', 'h', 'i', 'j', 'k', 'l', 'm', 'n', 'o', 'p', 'q', 'r', 's', 't', 'u', 'v', 'w', 'x', 'y', 'z', 'a', 'b', 'c', 'd', 'e', 'f', 'g', 'h', 'i', 'j', 'k', 'l', 'm', 'n', 'o', 'p', 'q', 'r', 's', 't', 'u', 'v', 'w', 'x', 'y', 'z']\n",
        "alphabet = ['a', 'b', 'c', 'd', 'e', 'f', 'g', 'h', 'i', 'j', 'k', 'l', 'm', 'n', 'o', 'p', 'q', 'r', 's', 't', 'u', 'v', 'w', 'x', 'y', 'z', 'a', 'b', 'c', 'd', 'e', 'f', 'g', 'h', 'i', 'j', 'k', 'l', 'm', 'n', 'o', 'p', 'q', 'r', 's', 't', 'u', 'v', 'w', 'x', 'y', 'z','a', 'b', 'c', 'd', 'e', 'f', 'g', 'h', 'i', 'j', 'k', 'l', 'm', 'n', 'o', 'p', 'q', 'r', 's', 't', 'u', 'v', 'w', 'x', 'y', 'z', 'a', 'b', 'c', 'd', 'e', 'f', 'g', 'h', 'i', 'j', 'k', 'l', 'm', 'n', 'o', 'p', 'q', 'r', 's', 't', 'u', 'v', 'w', 'x', 'y', 'z']\n",
        "\n",
        "direction = input(\"Type 'encode' to encrypt, type 'decode' to decrypt:\\n\")\n",
        "text = input(\"Type your message:\\n\").lower()\n",
        "shift = int(input(\"Type the shift number:\\n\"))"
      ],
      "metadata": {
        "colab": {
          "base_uri": "https://localhost:8080/"
        },
        "id": "_F1LCjvsRHqs",
        "outputId": "dc22456f-1319-4ee5-f923-503b0c94ae7c"
      },
      "execution_count": 20,
      "outputs": [
        {
          "name": "stdout",
          "output_type": "stream",
          "text": [
            "Type 'encode' to encrypt, type 'decode' to decrypt:\n",
            "decode\n",
            "Type your message:\n",
            "apssp\n",
            "Type the shift number:\n",
            "1\n"
          ]
        }
      ]
    },
    {
      "cell_type": "markdown",
      "source": [
        "## Solution"
      ],
      "metadata": {
        "id": "UtBmYaMsQzKT"
      }
    },
    {
      "cell_type": "code",
      "source": [
        "def encrypt(plain_text, shift_amount):\n",
        "  cipher_text = \"\"\n",
        "  for letter in plain_text:\n",
        "    position = alphabet.index(letter)\n",
        "    new_position = position + shift_amount\n",
        "    new_letter = alphabet[new_position]\n",
        "    cipher_text += new_letter\n",
        "  print(f\"The encoded text is {cipher_text}\")\n",
        "\n",
        "# encrypt(plain_text=text, shift_amount=shift)\n",
        "\n",
        "def decrypt(encrypted_text, shift_amount):\n",
        "  plain_text = \"\"\n",
        "  for letter in encrypted_text:\n",
        "    position = alphabet.index(letter)\n",
        "    new_position = position - shift_amount\n",
        "    plain_text += alphabet[new_position]\n",
        "  print(f'The decoded text is {plain_text}')\n",
        "\n",
        "if direction == 'encode':\n",
        "  encrypt(plain_text=text, shift_amount=shift)\n",
        "elif direction == 'decode':\n",
        "  decrypt(encrypted_text=text, shift_amount=shift)"
      ],
      "metadata": {
        "colab": {
          "base_uri": "https://localhost:8080/"
        },
        "id": "Cx2QgLj9hIf_",
        "outputId": "bff4d2db-e5e6-43d9-8f56-eebf78b149dd"
      },
      "execution_count": 22,
      "outputs": [
        {
          "output_type": "stream",
          "name": "stdout",
          "text": [
            "The decoded text is zorro\n"
          ]
        }
      ]
    },
    {
      "cell_type": "markdown",
      "source": [
        "## Alternative Solution\n"
      ],
      "metadata": {
        "id": "Ris4LFnnl3BV"
      }
    },
    {
      "cell_type": "code",
      "source": [
        "def caesar(start_text, shift_amount, enc_or_dec):\n",
        "  end_text = ''\n",
        "  if enc_or_dec == 'decode':\n",
        "    shift_amount *= -1\n",
        "  for letter in start_text:\n",
        "    position = alphabet.index(letter)\n",
        "    new_position = position + shift_amount\n",
        "    end_text += alphabet[new_position]\n",
        "  print(f'Here is the {enc_or_dec}d result: {end_text}')\n",
        "\n",
        "caesar(start_text = text,shift_amount = shift,enc_or_dec = direction)"
      ],
      "metadata": {
        "colab": {
          "base_uri": "https://localhost:8080/"
        },
        "id": "lUyO_tfCl6ha",
        "outputId": "e9287139-8801-45f5-b376-25d773a06ae1"
      },
      "execution_count": 23,
      "outputs": [
        {
          "output_type": "stream",
          "name": "stdout",
          "text": [
            "Here is the decoded result: zorro\n"
          ]
        }
      ]
    },
    {
      "cell_type": "code",
      "source": [
        ""
      ],
      "metadata": {
        "id": "OP7n7B15mqUL"
      },
      "execution_count": null,
      "outputs": []
    }
  ]
}