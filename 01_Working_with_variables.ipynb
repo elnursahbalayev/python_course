{
  "nbformat": 4,
  "nbformat_minor": 0,
  "metadata": {
    "colab": {
      "name": "01_Working with variables.ipynb",
      "provenance": [],
      "authorship_tag": "ABX9TyOQEp8wXJuSNWEfx8lDBKwR",
      "include_colab_link": true
    },
    "kernelspec": {
      "name": "python3",
      "display_name": "Python 3"
    },
    "language_info": {
      "name": "python"
    }
  },
  "cells": [
    {
      "cell_type": "markdown",
      "metadata": {
        "id": "view-in-github",
        "colab_type": "text"
      },
      "source": [
        "<a href=\"https://colab.research.google.com/github/aliyusifov99/python_course/blob/main/01_Working_with_variables.ipynb\" target=\"_parent\"><img src=\"https://colab.research.google.com/assets/colab-badge.svg\" alt=\"Open In Colab\"/></a>"
      ]
    },
    {
      "cell_type": "markdown",
      "source": [
        "# Working with variables"
      ],
      "metadata": {
        "id": "XtRYN-LTcoLr"
      }
    },
    {
      "cell_type": "markdown",
      "source": [
        "## What we will cover in this chapter?\n",
        "\n",
        "### Printing\n",
        "### Commenting\n",
        "### Debugging\n",
        "### String Manipulation\n",
        "### Variables\n",
        "\n",
        "## Project\n",
        "- Brand Namer Machine"
      ],
      "metadata": {
        "id": "1Mn5-XcrcvQz"
      }
    },
    {
      "cell_type": "markdown",
      "source": [
        "## Printing"
      ],
      "metadata": {
        "id": "szBd7EEaeRJC"
      }
    },
    {
      "cell_type": "code",
      "source": [
        "print('Hello World!')"
      ],
      "metadata": {
        "colab": {
          "base_uri": "https://localhost:8080/"
        },
        "id": "4buKPAURfvyA",
        "outputId": "afa522fc-2c90-4c97-db8a-c65dd189a1b7"
      },
      "execution_count": 2,
      "outputs": [
        {
          "output_type": "stream",
          "name": "stdout",
          "text": [
            "Hello World!\n"
          ]
        }
      ]
    },
    {
      "cell_type": "markdown",
      "source": [
        "- The reason for quotation mark is that we tell our computer that it is not code. It is bunch of strings.\n",
        "\n",
        "- Learn how to do research!"
      ],
      "metadata": {
        "id": "dncwhzasgM6U"
      }
    },
    {
      "cell_type": "markdown",
      "source": [
        "### Exercise #1"
      ],
      "metadata": {
        "id": "_M4XK43xfyo6"
      }
    },
    {
      "cell_type": "markdown",
      "source": [
        "In this exercise you will do the simple printing task. \n",
        "The task is to print these on the console:\n",
        "\n",
        "- Welcome to the Python Course!\n",
        "- Programming is the place to create magic\n",
        "- print('how can I print it?')"
      ],
      "metadata": {
        "id": "qpv1gGRwhD3c"
      }
    },
    {
      "cell_type": "markdown",
      "source": [
        "### Solution"
      ],
      "metadata": {
        "id": "Y_qBR94EndmK"
      }
    },
    {
      "cell_type": "code",
      "source": [
        "print('Welcome to the Python Course!')\n",
        "print('Programming is the place to create magic')\n",
        "print(\"print('how can I print it?')\")"
      ],
      "metadata": {
        "colab": {
          "base_uri": "https://localhost:8080/"
        },
        "id": "XgWfbjoong0Q",
        "outputId": "a95ee06b-860b-4df2-a543-e0108be2df08"
      },
      "execution_count": 16,
      "outputs": [
        {
          "output_type": "stream",
          "name": "stdout",
          "text": [
            "Welcome to the Python Course!\n",
            "Programming is the place to create magic\n",
            "print('how can I print it?')\n"
          ]
        }
      ]
    },
    {
      "cell_type": "markdown",
      "source": [
        "## String Manipulation"
      ],
      "metadata": {
        "id": "p2Or5aJ4iKze"
      }
    },
    {
      "cell_type": "code",
      "source": [
        "print('Hello world!\\nHello World!')\n",
        "# No need to write print() function two times"
      ],
      "metadata": {
        "colab": {
          "base_uri": "https://localhost:8080/"
        },
        "id": "N7CCVbfFjGHW",
        "outputId": "e20f3fe7-46c4-4de0-f1fd-009cb8cddcb2"
      },
      "execution_count": 5,
      "outputs": [
        {
          "output_type": "stream",
          "name": "stdout",
          "text": [
            "Hello world!\n",
            "Hello World!\n"
          ]
        }
      ]
    },
    {
      "cell_type": "code",
      "source": [
        "#Concatenate\n",
        "print('Hello'+ 'Ali')\n",
        "# Need for space character!, we can solve it in 3 ways!\n",
        "print('Hello '+ 'Ali')\n",
        "print('Hello'+ ' Ali')\n",
        "print('Hello'+ ' '+ 'Ali')"
      ],
      "metadata": {
        "colab": {
          "base_uri": "https://localhost:8080/"
        },
        "id": "qvIDswChjOSL",
        "outputId": "25277ab8-36dd-4902-d0ed-6c14ba0e2b44"
      },
      "execution_count": 8,
      "outputs": [
        {
          "output_type": "stream",
          "name": "stdout",
          "text": [
            "HelloAli\n",
            "Hello Ali\n",
            "Hello Ali\n",
            "Hello Ali\n"
          ]
        }
      ]
    },
    {
      "cell_type": "markdown",
      "source": [
        "In python space is very important. The space not in the print,the space in  your code. Indentation is very important. "
      ],
      "metadata": {
        "id": "suXjw8Pxjcgc"
      }
    },
    {
      "cell_type": "code",
      "source": [
        " print('Hello World!')"
      ],
      "metadata": {
        "colab": {
          "base_uri": "https://localhost:8080/"
        },
        "id": "4TNjjaUZlF-u",
        "outputId": "999baf8f-fd52-4b3c-93e5-aa27ca9fa535"
      },
      "execution_count": 13,
      "outputs": [
        {
          "output_type": "stream",
          "name": "stdout",
          "text": [
            "Hello World!\n"
          ]
        }
      ]
    },
    {
      "cell_type": "markdown",
      "source": [
        "### Exercise #2"
      ],
      "metadata": {
        "id": "8wpvobYjlJ1E"
      }
    },
    {
      "cell_type": "markdown",
      "source": [
        "In this exercise you will be given bunch of print lines but there is an error or errors in these lines. Your task is to fix them so your program can run without error.\n",
        "\n",
        "\n"
      ],
      "metadata": {
        "id": "E0WfBfMclqJU"
      }
    },
    {
      "cell_type": "code",
      "source": [
        "print(Today we have learn't about the print statemene\")\n",
        "print(\"Concatenation is one of the useful string manipulation techniques in\"+ \"python\")\n",
        "   print('We might encounter indentation error sometimes.')\n",
        "print((\"Stackoverflow is the best friend of programmer!\")"
      ],
      "metadata": {
        "colab": {
          "base_uri": "https://localhost:8080/",
          "height": 130
        },
        "id": "ik5qzWGkme2x",
        "outputId": "6ab4765e-1687-446c-9cde-81578f1592e2"
      },
      "execution_count": 14,
      "outputs": [
        {
          "output_type": "error",
          "ename": "SyntaxError",
          "evalue": "ignored",
          "traceback": [
            "\u001b[0;36m  File \u001b[0;32m\"<ipython-input-14-59cc54d5bb6c>\"\u001b[0;36m, line \u001b[0;32m1\u001b[0m\n\u001b[0;31m    print(Today we have learn't about the print statemene\")\u001b[0m\n\u001b[0m                 ^\u001b[0m\n\u001b[0;31mSyntaxError\u001b[0m\u001b[0;31m:\u001b[0m invalid syntax\n"
          ]
        }
      ]
    },
    {
      "cell_type": "markdown",
      "source": [
        "### Solution"
      ],
      "metadata": {
        "id": "JpoT-Vu_nMvK"
      }
    },
    {
      "cell_type": "code",
      "source": [
        "print(\"Today we have learn't about the print statemene\")\n",
        "print(\"Concatenation is one of the useful string manipulation techniques in\"+ \"python\")\n",
        "print('We might encounter indentation error sometimes.')\n",
        "print(\"Stackoverflow is the best friend of programmer!\")"
      ],
      "metadata": {
        "colab": {
          "base_uri": "https://localhost:8080/"
        },
        "id": "kFbRtIUTm7Z4",
        "outputId": "8108e0ae-c221-4aa2-d82f-325b108687c9"
      },
      "execution_count": 15,
      "outputs": [
        {
          "output_type": "stream",
          "name": "stdout",
          "text": [
            "Today we have learn't about the print statemene\n",
            "Concatenation is one of the useful string manipulation techniques inpython\n",
            "We might encounter indentation error sometimes.\n",
            "Stackoverflow is the best friend of programmer!\n"
          ]
        }
      ]
    },
    {
      "cell_type": "markdown",
      "source": [
        "## Input Function"
      ],
      "metadata": {
        "id": "gVLEvw05nSXs"
      }
    },
    {
      "cell_type": "markdown",
      "source": [
        "Sometimes we need user to enter something. For example let's say we are interested in user's name. We cannot do it with print function. For this we use input function."
      ],
      "metadata": {
        "id": "dmGFa1sjnWqU"
      }
    },
    {
      "cell_type": "code",
      "source": [
        "input('What is your name?\\n')"
      ],
      "metadata": {
        "colab": {
          "base_uri": "https://localhost:8080/",
          "height": 70
        },
        "id": "NXH4JHrBoGr6",
        "outputId": "7a3884f2-1c8c-4f4b-98c1-f42957a13489"
      },
      "execution_count": 17,
      "outputs": [
        {
          "name": "stdout",
          "output_type": "stream",
          "text": [
            "What is your name?\n",
            "Ali\n"
          ]
        },
        {
          "output_type": "execute_result",
          "data": {
            "application/vnd.google.colaboratory.intrinsic+json": {
              "type": "string"
            },
            "text/plain": [
              "'Ali'"
            ]
          },
          "metadata": {},
          "execution_count": 17
        }
      ]
    },
    {
      "cell_type": "code",
      "source": [
        "print('Hello '+input('What is your name?'))"
      ],
      "metadata": {
        "colab": {
          "base_uri": "https://localhost:8080/"
        },
        "id": "gEsAd82loJuh",
        "outputId": "b0e51eb6-aa6e-45e2-ddac-05c49de68c6e"
      },
      "execution_count": 18,
      "outputs": [
        {
          "output_type": "stream",
          "name": "stdout",
          "text": [
            "What is your name?Ali\n",
            "HelloAli\n"
          ]
        }
      ]
    },
    {
      "cell_type": "markdown",
      "source": [
        "## Commenting\n",
        "\n",
        "Sometimes you need to write something in your code maybe to explain something, but you don't want it to be executed. For this we use comments. "
      ],
      "metadata": {
        "id": "vgY-rO5xoa_h"
      }
    },
    {
      "cell_type": "code",
      "source": [
        "# Example\n",
        "# In the code below I showed how to write print \n",
        "print('Hello World!')\n",
        "# You can use Ctrl+/ in Windows or Command+/ in Mac to comment"
      ],
      "metadata": {
        "colab": {
          "base_uri": "https://localhost:8080/"
        },
        "id": "PlRxv2N-ogRc",
        "outputId": "51eae5ea-1730-4cf5-9342-e9c9200d86d0"
      },
      "execution_count": 22,
      "outputs": [
        {
          "output_type": "stream",
          "name": "stdout",
          "text": [
            "Hello World!\n"
          ]
        }
      ]
    },
    {
      "cell_type": "markdown",
      "source": [
        "## Exercise #3"
      ],
      "metadata": {
        "id": "tvs3YtSdpKI5"
      }
    },
    {
      "cell_type": "markdown",
      "source": [
        "In this exercise you are assigned to write a code, where user can enter any word and your code need to print the number of characters in this word. We almost covered everything for this exercise except one this which is number of charaters. Good luck!"
      ],
      "metadata": {
        "id": "BS9Z24-bpmzT"
      }
    },
    {
      "cell_type": "markdown",
      "source": [
        "## Example \n",
        "Chair"
      ],
      "metadata": {
        "id": "h6IjHn1op6IX"
      }
    },
    {
      "cell_type": "markdown",
      "source": [
        "## Output \n",
        "5"
      ],
      "metadata": {
        "id": "wD4jLY-PqBtp"
      }
    },
    {
      "cell_type": "markdown",
      "source": [
        "## Solution"
      ],
      "metadata": {
        "id": "eGWaEepCqEnF"
      }
    },
    {
      "cell_type": "code",
      "source": [
        "print(len(input('Please enter any word?')))"
      ],
      "metadata": {
        "colab": {
          "base_uri": "https://localhost:8080/"
        },
        "id": "BQk32iWzqKOf",
        "outputId": "e4c83dfa-cd5d-4799-afe4-b9b1d9ddb15a"
      },
      "execution_count": 25,
      "outputs": [
        {
          "output_type": "stream",
          "name": "stdout",
          "text": [
            "Please enter any word?name\n",
            "4\n"
          ]
        }
      ]
    },
    {
      "cell_type": "code",
      "source": [
        ""
      ],
      "metadata": {
        "id": "rITxfmx_qUEK"
      },
      "execution_count": null,
      "outputs": []
    },
    {
      "cell_type": "markdown",
      "source": [
        ""
      ],
      "metadata": {
        "id": "ugQgpZ7arzk7"
      }
    },
    {
      "cell_type": "markdown",
      "source": [
        "## Python Variables"
      ],
      "metadata": {
        "id": "6x9RsihKr04p"
      }
    },
    {
      "cell_type": "code",
      "source": [
        "input('What is your name?')"
      ],
      "metadata": {
        "colab": {
          "base_uri": "https://localhost:8080/",
          "height": 53
        },
        "id": "1fEe6KCbr2_7",
        "outputId": "b4317f09-464a-40e0-f87a-d4d2a61c92a3"
      },
      "execution_count": 26,
      "outputs": [
        {
          "name": "stdout",
          "output_type": "stream",
          "text": [
            "What is your name?Ali\n"
          ]
        },
        {
          "output_type": "execute_result",
          "data": {
            "application/vnd.google.colaboratory.intrinsic+json": {
              "type": "string"
            },
            "text/plain": [
              "'Ali'"
            ]
          },
          "metadata": {},
          "execution_count": 26
        }
      ]
    },
    {
      "cell_type": "code",
      "source": [
        "name=input('What is your name?')\n",
        "print(name)"
      ],
      "metadata": {
        "colab": {
          "base_uri": "https://localhost:8080/"
        },
        "id": "PEJeezzMsERe",
        "outputId": "0b62fb2d-f896-4807-d097-0e1a4faeaa9b"
      },
      "execution_count": 28,
      "outputs": [
        {
          "output_type": "stream",
          "name": "stdout",
          "text": [
            "What is your name?Ali\n",
            "Ali\n"
          ]
        }
      ]
    },
    {
      "cell_type": "markdown",
      "source": [
        "Why do we use variables?\n",
        "Phone book example.\n",
        "\n",
        "- We can change the variable. Different piece of data can be assigned to it."
      ],
      "metadata": {
        "id": "dOG8_fyEsWGB"
      }
    },
    {
      "cell_type": "code",
      "source": [
        "name='Ali'\n",
        "print(name)\n",
        "\n",
        "name='Haziq'\n",
        "print(name)"
      ],
      "metadata": {
        "colab": {
          "base_uri": "https://localhost:8080/"
        },
        "id": "mY98wZYUsIcW",
        "outputId": "db69a04e-1772-4d59-cc96-88a01e08889d"
      },
      "execution_count": 30,
      "outputs": [
        {
          "output_type": "stream",
          "name": "stdout",
          "text": [
            "Ali\n",
            "Haziq\n"
          ]
        }
      ]
    },
    {
      "cell_type": "code",
      "source": [
        "# Exercise 3 but with easiier solution.\n",
        "name=input('Please, enter any word: ')\n",
        "print(len(name))"
      ],
      "metadata": {
        "colab": {
          "base_uri": "https://localhost:8080/"
        },
        "id": "YnfKnfGus12D",
        "outputId": "e4c1ff4e-cf52-4f1c-bab1-ba3d8e5e04b1"
      },
      "execution_count": 32,
      "outputs": [
        {
          "output_type": "stream",
          "name": "stdout",
          "text": [
            "Please, enter any word table\n",
            "5\n"
          ]
        }
      ]
    },
    {
      "cell_type": "markdown",
      "source": [
        "##  Exercise #4"
      ],
      "metadata": {
        "id": "YyZE_qJFtHhn"
      }
    },
    {
      "cell_type": "markdown",
      "source": [
        "This exercise is a little tricky. So in this exercise you will need to switch the variable values. \n",
        "\n",
        "## Input:\n",
        "a:10\n",
        "\n",
        "\n",
        "b:20\n",
        "## Output:\n",
        "a:20\n",
        "\n",
        "\n",
        "b:10"
      ],
      "metadata": {
        "id": "twVDsN02tbXJ"
      }
    },
    {
      "cell_type": "code",
      "source": [
        "#Do not change the code below:\n",
        "a=input(\"a: \")\n",
        "b=input(\"b: \")\n",
        "\n",
        "\n",
        "\n",
        "#Write your code here below:\n",
        "\n",
        "\n",
        "\n",
        "\n",
        "#Do not change the code below:\n",
        "print(\"a: \"+a)\n",
        "print(\"b: \"+b)"
      ],
      "metadata": {
        "id": "pO-9fHeiurGS"
      },
      "execution_count": null,
      "outputs": []
    },
    {
      "cell_type": "code",
      "source": [
        "# You cannot write like this:\n",
        "print('a: '+ b)\n",
        "print('b: '+ a)"
      ],
      "metadata": {
        "id": "lWYN9ewwuaPa"
      },
      "execution_count": null,
      "outputs": []
    },
    {
      "cell_type": "code",
      "source": [
        "##  Solution \n",
        "a=input(\"a: \")\n",
        "b=input(\"b: \")\n",
        "\n",
        "\n",
        "c=a\n",
        "a=b\n",
        "b=c\n",
        "\n",
        "print(\"a: \"+a)\n",
        "print(\"b: \"+b)"
      ],
      "metadata": {
        "colab": {
          "base_uri": "https://localhost:8080/"
        },
        "id": "4GWbAeKmtxpe",
        "outputId": "dbbf0d6f-339d-4e1a-ea7b-b5e584f0b00d"
      },
      "execution_count": 36,
      "outputs": [
        {
          "output_type": "stream",
          "name": "stdout",
          "text": [
            "a: 3\n",
            "b: 4\n",
            "a: 4\n",
            "b: 3\n"
          ]
        }
      ]
    },
    {
      "cell_type": "code",
      "source": [
        ""
      ],
      "metadata": {
        "id": "CwYudaYpuBvf"
      },
      "execution_count": null,
      "outputs": []
    },
    {
      "cell_type": "markdown",
      "source": [
        "## Naming Variables"
      ],
      "metadata": {
        "id": "YkVRpHMxvD1c"
      }
    },
    {
      "cell_type": "markdown",
      "source": [
        "Naming variable is one of the important thing because when you refer this variable letter it wil be easy for you to find. There are some rules in naming variable. \n",
        "\n",
        "- You can use underscore when your variable has more than one word but cannot use space. \n",
        "\n",
        "Example:\n",
        "\n",
        "Correct:  my_name\n",
        "\n",
        "Incorrect: my name\n",
        "\n",
        "- If you want to use number when you name your variable,you can use it but you can use in the mid or ending part, not in the beginning. \n",
        "\n",
        "Example:\n",
        "\n",
        "Correct: table_9\n",
        "\n",
        "Incorrect 9_table\n",
        "\n",
        "- We cannot use privileged function. For example do not use print as a variable name. Even if  you might not encounter error, it is a bad habit in programming."
      ],
      "metadata": {
        "id": "P1ptYxxOvFv3"
      }
    },
    {
      "cell_type": "markdown",
      "source": [
        "## Final Project "
      ],
      "metadata": {
        "id": "_HGMMmUYvrU6"
      }
    },
    {
      "cell_type": "markdown",
      "source": [
        "In this project we will build a machine where it will generate name for our brand. In this final project we will apply everything we have covered in this chapter. The machine will work like this."
      ],
      "metadata": {
        "id": "bjzUzblawiV9"
      }
    },
    {
      "cell_type": "code",
      "source": [
        "#input the name variable\n",
        "name=input('What is your name?\\n')\n",
        "# input the city name\n",
        "city=input('Where you were born?\\n')\n",
        "\n",
        "\n",
        "#and generate the name:\n",
        "\n",
        "print('Your brand name might be '+name+' '+ city)"
      ],
      "metadata": {
        "colab": {
          "base_uri": "https://localhost:8080/"
        },
        "id": "QoHvq9xGw9nD",
        "outputId": "97e856ca-6526-406f-c74e-949d9b3831ed"
      },
      "execution_count": 1,
      "outputs": [
        {
          "output_type": "stream",
          "name": "stdout",
          "text": [
            "What is your name?\n",
            "ali\n",
            "Where you were born?\n",
            "baku\n",
            "Your brand name might be ali baku\n"
          ]
        }
      ]
    },
    {
      "cell_type": "code",
      "source": [
        ""
      ],
      "metadata": {
        "id": "dq_ci9TpxYcr"
      },
      "execution_count": null,
      "outputs": []
    }
  ]
}