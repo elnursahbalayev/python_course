{
  "nbformat": 4,
  "nbformat_minor": 0,
  "metadata": {
    "colab": {
      "name": "05_Loops.ipynb",
      "provenance": [],
      "authorship_tag": "ABX9TyPDc+jTzrlrH5kyNFkXJKjO",
      "include_colab_link": true
    },
    "kernelspec": {
      "name": "python3",
      "display_name": "Python 3"
    },
    "language_info": {
      "name": "python"
    }
  },
  "cells": [
    {
      "cell_type": "markdown",
      "metadata": {
        "id": "view-in-github",
        "colab_type": "text"
      },
      "source": [
        "<a href=\"https://colab.research.google.com/github/aliyusifov99/python_course/blob/main/05_Loops.ipynb\" target=\"_parent\"><img src=\"https://colab.research.google.com/assets/colab-badge.svg\" alt=\"Open In Colab\"/></a>"
      ]
    },
    {
      "cell_type": "markdown",
      "source": [
        "# Loops"
      ],
      "metadata": {
        "id": "B07Axke-c0jb"
      }
    },
    {
      "cell_type": "markdown",
      "source": [
        "# What  we will cover today\n",
        "- For Loops\n",
        "- Range\n",
        "- Code Blocks\n",
        "\n",
        "Project\n",
        "-Secure Password Generator"
      ],
      "metadata": {
        "id": "7WL3VsQtdL_T"
      }
    },
    {
      "cell_type": "markdown",
      "source": [
        "## Loops"
      ],
      "metadata": {
        "id": "CWJRqtNDeYrG"
      }
    },
    {
      "cell_type": "code",
      "source": [
        "# for loop\n",
        "cars=['AUDI', 'BMW', 'MERCEDES']\n",
        "\n",
        "for car in cars:\n",
        "  print(car)"
      ],
      "metadata": {
        "colab": {
          "base_uri": "https://localhost:8080/"
        },
        "id": "sITI-JGueddq",
        "outputId": "6983a8ff-ecbb-4ccf-b0ef-26ef2ac5aa19"
      },
      "execution_count": 2,
      "outputs": [
        {
          "output_type": "stream",
          "name": "stdout",
          "text": [
            "AUDI\n",
            "BMW\n",
            "MERCEDES\n"
          ]
        }
      ]
    },
    {
      "cell_type": "code",
      "source": [
        "for car in cars:\n",
        "  print(car)\n",
        "  print(car+' engine')"
      ],
      "metadata": {
        "colab": {
          "base_uri": "https://localhost:8080/"
        },
        "id": "_qJJc5NyeszY",
        "outputId": "ccf42b4a-dce6-422d-ac16-8fe086f61374"
      },
      "execution_count": 3,
      "outputs": [
        {
          "output_type": "stream",
          "name": "stdout",
          "text": [
            "AUDI\n",
            "AUDI engine\n",
            "BMW\n",
            "BMW engine\n",
            "MERCEDES\n",
            "MERCEDES engine\n"
          ]
        }
      ]
    },
    {
      "cell_type": "markdown",
      "source": [
        "## Exercise #1"
      ],
      "metadata": {
        "id": "Gfj8KVq-fYCj"
      }
    },
    {
      "cell_type": "markdown",
      "source": [
        "In this exercise we will calculate average height of the students in class. \n",
        "\n",
        "Input \n",
        "\n",
        "156 173 180 154 182\n",
        "\n",
        "Output \n",
        "\n",
        "169 \n",
        "\n",
        "\n",
        "Note that you should use for loop for this exercise. Do not use sum function."
      ],
      "metadata": {
        "id": "YXlhL1ShftCB"
      }
    },
    {
      "cell_type": "markdown",
      "source": [
        "## Solution "
      ],
      "metadata": {
        "id": "xo9_J3RbgUhA"
      }
    },
    {
      "cell_type": "code",
      "source": [
        "student_heights=input('Please, enter the heights of students  below:\\n').split()\n",
        "for n in range(0, len(student_heights)):\n",
        "  student_heights[n]=int(student_heights[n])\n",
        "\n",
        "total_height=0\n",
        "for height in student_heights:\n",
        "  total_height+=height\n",
        "\n",
        "average_height=total_height/len(student_heights)\n",
        "print(average_height)"
      ],
      "metadata": {
        "colab": {
          "base_uri": "https://localhost:8080/"
        },
        "id": "YYmgDfJEgWHH",
        "outputId": "7a53aaa6-380d-475d-9972-9932ca9429bc"
      },
      "execution_count": 6,
      "outputs": [
        {
          "output_type": "stream",
          "name": "stdout",
          "text": [
            "Please, enter the heights of students  below:\n",
            "156 173 180 154 182\n",
            "169.0\n"
          ]
        }
      ]
    },
    {
      "cell_type": "markdown",
      "source": [
        "##  Exercise #2\n",
        "In  this exercise we will stretch  you a little bit. This exercise is a advanced version of previous question. So your task is to find the heighest student in the class. But you shouldn't use max function and solve it with for loops .\n",
        "\n",
        "Input \n",
        "\n",
        "156 173 180 154 182\n",
        "\n",
        "Output \n",
        "\n",
        "182 \n"
      ],
      "metadata": {
        "id": "IiTeqkSVhH2n"
      }
    },
    {
      "cell_type": "markdown",
      "source": [
        "## Solution"
      ],
      "metadata": {
        "id": "e9PIkDhszTVC"
      }
    },
    {
      "cell_type": "code",
      "source": [
        "student_heights=input('Please, enter the heights of students  below:\\n').split()\n",
        "for n in range(0, len(student_heights)):\n",
        "  student_heights[n]=int(student_heights[n])\n",
        "\n",
        "max_height=0\n",
        "for height in student_heights:\n",
        "  if height>max_height:\n",
        "    max_height=height\n",
        "\n",
        "print(max_height)"
      ],
      "metadata": {
        "colab": {
          "base_uri": "https://localhost:8080/"
        },
        "id": "W4KkQQ58qbAz",
        "outputId": "def011c5-4b05-461d-df28-7c32a9d0389c"
      },
      "execution_count": 7,
      "outputs": [
        {
          "output_type": "stream",
          "name": "stdout",
          "text": [
            "Please, enter the heights of students  below:\n",
            "152 178 185 131\n",
            "185\n"
          ]
        }
      ]
    },
    {
      "cell_type": "markdown",
      "source": [
        "## For in range function"
      ],
      "metadata": {
        "id": "PuXPqV4szpwQ"
      }
    },
    {
      "cell_type": "code",
      "source": [
        "for number in range(1, 10):\n",
        "  #not including 10\n",
        "  print(number)"
      ],
      "metadata": {
        "colab": {
          "base_uri": "https://localhost:8080/"
        },
        "id": "Imx65KYNJNHU",
        "outputId": "48900263-430d-42cd-b825-af194685ef46"
      },
      "execution_count": 9,
      "outputs": [
        {
          "output_type": "stream",
          "name": "stdout",
          "text": [
            "1\n",
            "2\n",
            "3\n",
            "4\n",
            "5\n",
            "6\n",
            "7\n",
            "8\n",
            "9\n"
          ]
        }
      ]
    },
    {
      "cell_type": "code",
      "source": [
        "# by steps\n",
        "for number in range(1,12,2):\n",
        "  print(number)"
      ],
      "metadata": {
        "colab": {
          "base_uri": "https://localhost:8080/"
        },
        "id": "2r_MkwxiJqSr",
        "outputId": "c14435a1-c851-4cec-9952-5855f635f5af"
      },
      "execution_count": 10,
      "outputs": [
        {
          "output_type": "stream",
          "name": "stdout",
          "text": [
            "1\n",
            "3\n",
            "5\n",
            "7\n",
            "9\n",
            "11\n"
          ]
        }
      ]
    },
    {
      "cell_type": "markdown",
      "source": [
        "## Exercise #3"
      ],
      "metadata": {
        "id": "x0dWb1UlJ6sA"
      }
    },
    {
      "cell_type": "markdown",
      "source": [
        "Iin this exercise you need to write a code that sum up all the even numbers from 1 to 100."
      ],
      "metadata": {
        "id": "E6WepJtoKC3N"
      }
    },
    {
      "cell_type": "markdown",
      "source": [
        "## Solution"
      ],
      "metadata": {
        "id": "c-UL9Jr-KLs6"
      }
    },
    {
      "cell_type": "code",
      "source": [
        "total=0\n",
        "for number in range(1,101):\n",
        "  if number%2==0:\n",
        "    total+=number\n",
        "\n",
        "print(total)"
      ],
      "metadata": {
        "colab": {
          "base_uri": "https://localhost:8080/"
        },
        "id": "V_ZVbV22KM-W",
        "outputId": "6aa56a2f-62e6-472b-8b22-0f7a9f17a0e2"
      },
      "execution_count": 14,
      "outputs": [
        {
          "output_type": "stream",
          "name": "stdout",
          "text": [
            "2550\n"
          ]
        }
      ]
    },
    {
      "cell_type": "markdown",
      "source": [
        "## Exercise #4"
      ],
      "metadata": {
        "id": "DkouPpaNKPsr"
      }
    },
    {
      "cell_type": "markdown",
      "source": [
        "You are going to write a program that automatically prints the solution to the FizzBuzz game. \n",
        "\n",
        "> `Your program should print each number from 1 to 100 in turn.` \n",
        "\n",
        ">   `When the number is divisible by 3 then instead of printing the number it should print \"Fizz\".` \n",
        "\n",
        ">  `When the number is divisible by 5, then instead of printing the number it should print \"Buzz\".` \n",
        "\n",
        ">   `And if the number is divisible by both 3 and 5 e.g. 15 then instead of the number it should print \"FizzBuzz\"`"
      ],
      "metadata": {
        "id": "DUPT3E8lKndl"
      }
    },
    {
      "cell_type": "markdown",
      "source": [
        "## Solution "
      ],
      "metadata": {
        "id": "V3xwGYLMKvPh"
      }
    },
    {
      "cell_type": "code",
      "source": [
        "for number in range(1, 101):\n",
        "  if number%5==0 and number%3==0:\n",
        "    print('FizzBuzz')\n",
        "  elif number%3==0:\n",
        "    print('Fizz')\n",
        "  elif number%5==0:\n",
        "    print('Buzz')\n",
        "  else:\n",
        "    print(number)"
      ],
      "metadata": {
        "colab": {
          "base_uri": "https://localhost:8080/"
        },
        "id": "hZopslKjK1az",
        "outputId": "6bd4c5b4-356a-473e-a440-86fdab3f6f56"
      },
      "execution_count": 17,
      "outputs": [
        {
          "output_type": "stream",
          "name": "stdout",
          "text": [
            "1\n",
            "2\n",
            "Fizz\n",
            "4\n",
            "Buzz\n",
            "Fizz\n",
            "7\n",
            "8\n",
            "Fizz\n",
            "Buzz\n",
            "11\n",
            "Fizz\n",
            "13\n",
            "14\n",
            "FizzBuzz\n",
            "16\n",
            "17\n",
            "Fizz\n",
            "19\n",
            "Buzz\n",
            "Fizz\n",
            "22\n",
            "23\n",
            "Fizz\n",
            "Buzz\n",
            "26\n",
            "Fizz\n",
            "28\n",
            "29\n",
            "FizzBuzz\n",
            "31\n",
            "32\n",
            "Fizz\n",
            "34\n",
            "Buzz\n",
            "Fizz\n",
            "37\n",
            "38\n",
            "Fizz\n",
            "Buzz\n",
            "41\n",
            "Fizz\n",
            "43\n",
            "44\n",
            "FizzBuzz\n",
            "46\n",
            "47\n",
            "Fizz\n",
            "49\n",
            "Buzz\n",
            "Fizz\n",
            "52\n",
            "53\n",
            "Fizz\n",
            "Buzz\n",
            "56\n",
            "Fizz\n",
            "58\n",
            "59\n",
            "FizzBuzz\n",
            "61\n",
            "62\n",
            "Fizz\n",
            "64\n",
            "Buzz\n",
            "Fizz\n",
            "67\n",
            "68\n",
            "Fizz\n",
            "Buzz\n",
            "71\n",
            "Fizz\n",
            "73\n",
            "74\n",
            "FizzBuzz\n",
            "76\n",
            "77\n",
            "Fizz\n",
            "79\n",
            "Buzz\n",
            "Fizz\n",
            "82\n",
            "83\n",
            "Fizz\n",
            "Buzz\n",
            "86\n",
            "Fizz\n",
            "88\n",
            "89\n",
            "FizzBuzz\n",
            "91\n",
            "92\n",
            "Fizz\n",
            "94\n",
            "Buzz\n",
            "Fizz\n",
            "97\n",
            "98\n",
            "Fizz\n",
            "Buzz\n"
          ]
        }
      ]
    },
    {
      "cell_type": "markdown",
      "source": [
        "## Project"
      ],
      "metadata": {
        "id": "M8m2qWIyLHnw"
      }
    },
    {
      "cell_type": "code",
      "source": [
        "#In this project we will build a program that will generate the password for user.\n",
        "\n",
        "import random\n",
        "letters = ['a', 'b', 'c', 'd', 'e', 'f', 'g', 'h', 'i', 'j', 'k', 'l', 'm', 'n', 'o', 'p', 'q', 'r', 's', 't', 'u', 'v', 'w', 'x', 'y', 'z', 'A', 'B', 'C', 'D', 'E', 'F', 'G', 'H', 'I', 'J', 'K', 'L', 'M', 'N', 'O', 'P', 'Q', 'R', 'S', 'T', 'U', 'V', 'W', 'X', 'Y', 'Z']\n",
        "numbers = ['0', '1', '2', '3', '4', '5', '6', '7', '8', '9']\n",
        "symbols = ['!', '#', '$', '%', '&', '(', ')', '*', '+']"
      ],
      "metadata": {
        "id": "_RHThChZLU4o"
      },
      "execution_count": 19,
      "outputs": []
    },
    {
      "cell_type": "code",
      "source": [
        "print(\"Welcome to the PyPassword Generator!\")\n",
        "nr_letters= int(input(\"How many letters would you like in your password?\\n\")) \n",
        "nr_symbols = int(input(f\"How many symbols would you like?\\n\"))\n",
        "nr_numbers = int(input(f\"How many numbers would you like?\\n\"))\n",
        "password=[]\n",
        "\n",
        "for n in range(0,nr_letters):\n",
        "  random_index=random.randint(0,len(letters)-1)\n",
        "  choosen_leter=letters[random_index]\n",
        "  password.append(choosen_leter)\n",
        "\n",
        "for n in range(0, nr_numbers):\n",
        "  random_index=random.randint(0, len(numbers)-1)\n",
        "  choosen_number=numbers[random_index]\n",
        "  password.append(choosen_number)\n",
        "\n",
        "for n in range(0, nr_symbols):\n",
        "  random_index=random.randint(0, len(symbols)-1)\n",
        "  choosen_symbol=symbols[random_index]\n",
        "  password.append(choosen_symbol)\n",
        "\n",
        "random.shuffle(password)\n",
        "\n",
        "final_password=''\n",
        "for char in password:\n",
        "  final_password+=char\n",
        "\n",
        "print(final_password)"
      ],
      "metadata": {
        "colab": {
          "base_uri": "https://localhost:8080/"
        },
        "id": "QCF0somlLyiR",
        "outputId": "0d18c3bc-9abd-459b-9a0d-245f82716004"
      },
      "execution_count": 45,
      "outputs": [
        {
          "output_type": "stream",
          "name": "stdout",
          "text": [
            "Welcome to the PyPassword Generator!\n",
            "How many letters would you like in your password?\n",
            "6\n",
            "How many symbols would you like?\n",
            "7\n",
            "How many numbers would you like?\n",
            "3\n",
            "['%', '9', 'z', 'c', 'Z', 'n', 'y', '$', ')', ')', '6', '+', '#', '*', '2', 'b']\n",
            "%9zcZny$))6+#*2b\n"
          ]
        }
      ]
    },
    {
      "cell_type": "code",
      "source": [
        "43343\n"
      ],
      "metadata": {
        "id": "ICFHloJ4MdBW"
      },
      "execution_count": null,
      "outputs": []
    }
  ]
}