{
  "nbformat": 4,
  "nbformat_minor": 0,
  "metadata": {
    "colab": {
      "name": "04_Randomisation and Lists.ipynb",
      "provenance": [],
      "toc_visible": true,
      "authorship_tag": "ABX9TyNy8Uxhgpe9yMZV45l3Dljz",
      "include_colab_link": true
    },
    "kernelspec": {
      "name": "python3",
      "display_name": "Python 3"
    },
    "language_info": {
      "name": "python"
    }
  },
  "cells": [
    {
      "cell_type": "markdown",
      "metadata": {
        "id": "view-in-github",
        "colab_type": "text"
      },
      "source": [
        "<a href=\"https://colab.research.google.com/github/aliyusifov99/python_course/blob/main/04_Randomisation_and_Lists.ipynb\" target=\"_parent\"><img src=\"https://colab.research.google.com/assets/colab-badge.svg\" alt=\"Open In Colab\"/></a>"
      ]
    },
    {
      "cell_type": "markdown",
      "source": [
        "# Randomisation"
      ],
      "metadata": {
        "id": "9cPRJlqv2cCs"
      }
    },
    {
      "cell_type": "code",
      "execution_count": 1,
      "metadata": {
        "id": "DCtveVw41tL6"
      },
      "outputs": [],
      "source": [
        "#import random module\n",
        "import random"
      ]
    },
    {
      "cell_type": "code",
      "source": [
        "random_integer = random.randint(1,10)\n",
        "print(random_integer)"
      ],
      "metadata": {
        "colab": {
          "base_uri": "https://localhost:8080/"
        },
        "id": "HYtJdyqk6q79",
        "outputId": "4a01d6d9-a783-4dd1-b158-61f21de11013"
      },
      "execution_count": 4,
      "outputs": [
        {
          "output_type": "stream",
          "name": "stdout",
          "text": [
            "10\n"
          ]
        }
      ]
    },
    {
      "cell_type": "markdown",
      "source": [
        "What is a module? \n",
        "When the code is too long, code is divided to many documents and each document does one thing. Think of it as an oil rig. There needs to be many people there such as mechanical engineers, chemical engineers, petroleum engineers, electrical engineers and so on. If everything is done by 1 person, it would be almost impossible to operate. Same thing applies here. When the code gets too long, its best to divide it between many people(documents) and prevent the complication."
      ],
      "metadata": {
        "id": "eABT8F2R7gaN"
      }
    },
    {
      "cell_type": "code",
      "source": [
        "random_float = random.random()\n",
        "print(random_float)"
      ],
      "metadata": {
        "colab": {
          "base_uri": "https://localhost:8080/"
        },
        "id": "P581Qya57a9q",
        "outputId": "4a8e7b33-54c2-4ea0-89cf-4c5c77692a1c"
      },
      "execution_count": 6,
      "outputs": [
        {
          "output_type": "stream",
          "name": "stdout",
          "text": [
            "0.8540801992789895\n"
          ]
        }
      ]
    },
    {
      "cell_type": "markdown",
      "source": [
        "How to create random float number between 0 and 5?"
      ],
      "metadata": {
        "id": "m4URzNEZ8zlX"
      }
    },
    {
      "cell_type": "code",
      "source": [
        "random_float = random.random()*5\n",
        "random_float"
      ],
      "metadata": {
        "colab": {
          "base_uri": "https://localhost:8080/"
        },
        "id": "9LXM8Wxn8rnK",
        "outputId": "c47b954d-f8c8-4bef-f555-fda64f428072"
      },
      "execution_count": 10,
      "outputs": [
        {
          "output_type": "execute_result",
          "data": {
            "text/plain": [
              "3.182236982363271"
            ]
          },
          "metadata": {},
          "execution_count": 10
        }
      ]
    },
    {
      "cell_type": "code",
      "source": [
        "age = random.randint(10,90)\n",
        "print(f'Your are {age} years old.')"
      ],
      "metadata": {
        "colab": {
          "base_uri": "https://localhost:8080/"
        },
        "id": "s_2aCCSm85Gt",
        "outputId": "b766148d-8771-49de-b815-1873bc60abc7"
      },
      "execution_count": 13,
      "outputs": [
        {
          "output_type": "stream",
          "name": "stdout",
          "text": [
            "Your are 45 years old.\n"
          ]
        }
      ]
    },
    {
      "cell_type": "markdown",
      "source": [
        "## Exercise 1: Coin challenge\n",
        "\n",
        "Write a program to flip a coin randomly and give results such as heads or tails. There are many ways of doing it but we will try to use random.randint module. For example:\n",
        "\n",
        "1 means Heads\n",
        "\n",
        "0 means Tails"
      ],
      "metadata": {
        "id": "cVhwZVp39YYT"
      }
    },
    {
      "cell_type": "code",
      "source": [
        "#import random module\n",
        "import random\n",
        "#get a random number\n",
        "flip = random.randint(0,1)\n",
        "#print 'heads' or 'tails'\n",
        "if flip == 1:\n",
        "  print('Heads')\n",
        "else:\n",
        "  print('Tails')\n"
      ],
      "metadata": {
        "colab": {
          "base_uri": "https://localhost:8080/"
        },
        "id": "otPRhAJe9QDi",
        "outputId": "db5c05c5-1f3e-4334-bf74-f0d96b78f14a"
      },
      "execution_count": 26,
      "outputs": [
        {
          "output_type": "stream",
          "name": "stdout",
          "text": [
            "Heads\n"
          ]
        }
      ]
    },
    {
      "cell_type": "markdown",
      "source": [
        "# Lists\n",
        "\n",
        "* related stuff together\n",
        "* in order\n",
        "* drinks = ['coke', 'fanta', 'milo', 'teh']"
      ],
      "metadata": {
        "id": "jkvHisTS-0fw"
      }
    },
    {
      "cell_type": "code",
      "source": [
        "state_1 = 'Perak'\n",
        "state_2 = 'Kedah'\n",
        "state_3 = 'Pahang'\n",
        "# ..."
      ],
      "metadata": {
        "id": "zLEPvrgi-ZIr"
      },
      "execution_count": 29,
      "outputs": []
    },
    {
      "cell_type": "code",
      "source": [
        "Malaysia_states = ['Perak', 'Kedah', 'Pahang', 'Johor']"
      ],
      "metadata": {
        "id": "tIJUiDXb_7lY"
      },
      "execution_count": 33,
      "outputs": []
    },
    {
      "cell_type": "code",
      "source": [
        "Malaysia_states[0]"
      ],
      "metadata": {
        "colab": {
          "base_uri": "https://localhost:8080/",
          "height": 36
        },
        "id": "ITe9eJBvAb4d",
        "outputId": "65098bf0-579d-451d-e8a0-62b2efb17a88"
      },
      "execution_count": 34,
      "outputs": [
        {
          "output_type": "execute_result",
          "data": {
            "application/vnd.google.colaboratory.intrinsic+json": {
              "type": "string"
            },
            "text/plain": [
              "'Perak'"
            ]
          },
          "metadata": {},
          "execution_count": 34
        }
      ]
    },
    {
      "cell_type": "code",
      "source": [
        "Malaysia_states[2]"
      ],
      "metadata": {
        "colab": {
          "base_uri": "https://localhost:8080/",
          "height": 36
        },
        "id": "0C529ur2AUAn",
        "outputId": "08afff13-d250-48a7-eba7-2568dc111dd4"
      },
      "execution_count": 35,
      "outputs": [
        {
          "output_type": "execute_result",
          "data": {
            "application/vnd.google.colaboratory.intrinsic+json": {
              "type": "string"
            },
            "text/plain": [
              "'Pahang'"
            ]
          },
          "metadata": {},
          "execution_count": 35
        }
      ]
    },
    {
      "cell_type": "code",
      "source": [
        "state_1 = Malaysia_states[0]\n",
        "state_1"
      ],
      "metadata": {
        "colab": {
          "base_uri": "https://localhost:8080/",
          "height": 36
        },
        "id": "n-TNV0HJAgXa",
        "outputId": "a78e7a84-85b0-4175-e9e5-e6c09af40b7c"
      },
      "execution_count": 37,
      "outputs": [
        {
          "output_type": "execute_result",
          "data": {
            "application/vnd.google.colaboratory.intrinsic+json": {
              "type": "string"
            },
            "text/plain": [
              "'Perak'"
            ]
          },
          "metadata": {},
          "execution_count": 37
        }
      ]
    },
    {
      "cell_type": "code",
      "source": [
        "Malaysia_states[-1]"
      ],
      "metadata": {
        "colab": {
          "base_uri": "https://localhost:8080/",
          "height": 36
        },
        "id": "_8-6zIDCA7MT",
        "outputId": "43cbd887-f72a-403b-8054-c307271170f1"
      },
      "execution_count": 38,
      "outputs": [
        {
          "output_type": "execute_result",
          "data": {
            "application/vnd.google.colaboratory.intrinsic+json": {
              "type": "string"
            },
            "text/plain": [
              "'Johor'"
            ]
          },
          "metadata": {},
          "execution_count": 38
        }
      ]
    },
    {
      "cell_type": "code",
      "source": [
        "Malaysia_states[-2]"
      ],
      "metadata": {
        "colab": {
          "base_uri": "https://localhost:8080/",
          "height": 36
        },
        "id": "mYlCXhr1BFMN",
        "outputId": "b8649e59-8384-4e9b-cb26-6e2ffd5a7063"
      },
      "execution_count": 39,
      "outputs": [
        {
          "output_type": "execute_result",
          "data": {
            "application/vnd.google.colaboratory.intrinsic+json": {
              "type": "string"
            },
            "text/plain": [
              "'Pahang'"
            ]
          },
          "metadata": {},
          "execution_count": 39
        }
      ]
    },
    {
      "cell_type": "code",
      "source": [
        "Malaysia_states[1] = 'Kidah'\n",
        "Malaysia_states"
      ],
      "metadata": {
        "colab": {
          "base_uri": "https://localhost:8080/"
        },
        "id": "l5FFRtRhBHcr",
        "outputId": "9424f712-bbef-48be-d54b-bf39db44eafb"
      },
      "execution_count": 40,
      "outputs": [
        {
          "output_type": "execute_result",
          "data": {
            "text/plain": [
              "['Perak', 'Kidah', 'Pahang', 'Johor']"
            ]
          },
          "metadata": {},
          "execution_count": 40
        }
      ]
    },
    {
      "cell_type": "code",
      "source": [
        "Malaysia_states.append('Penang')"
      ],
      "metadata": {
        "id": "E5RN2f_VBTV1"
      },
      "execution_count": 41,
      "outputs": []
    },
    {
      "cell_type": "code",
      "source": [
        "Malaysia_states"
      ],
      "metadata": {
        "colab": {
          "base_uri": "https://localhost:8080/"
        },
        "id": "7VRz7cxiBbWQ",
        "outputId": "7935f7b8-8a10-4d56-8fd6-cabbafd488ba"
      },
      "execution_count": 42,
      "outputs": [
        {
          "output_type": "execute_result",
          "data": {
            "text/plain": [
              "['Perak', 'Kidah', 'Pahang', 'Johor', 'Penang']"
            ]
          },
          "metadata": {},
          "execution_count": 42
        }
      ]
    },
    {
      "cell_type": "code",
      "source": [
        "Malaysia_states.extend(['Terengganu', 'Malacca'])\n",
        "Malaysia_states"
      ],
      "metadata": {
        "colab": {
          "base_uri": "https://localhost:8080/"
        },
        "id": "vpH16CRnBcw1",
        "outputId": "ef695b72-a01c-486d-c0f2-d5514e94dca8"
      },
      "execution_count": 44,
      "outputs": [
        {
          "output_type": "execute_result",
          "data": {
            "text/plain": [
              "['Perak',\n",
              " 'Kidah',\n",
              " 'Pahang',\n",
              " 'Johor',\n",
              " 'Penang',\n",
              " 'Terengganu',\n",
              " 'Malacca',\n",
              " 'Terengganu',\n",
              " 'Malacca']"
            ]
          },
          "metadata": {},
          "execution_count": 44
        }
      ]
    },
    {
      "cell_type": "markdown",
      "source": [
        "## Exercise 2: Who will clean the room?\n",
        "\n",
        "Write a program to take names of students and choose a random student who will at the end clean the room.\n",
        "\n",
        "Example Input:\n",
        "\n",
        "`Ali, Elnur, Ronaldo, John, David, Mahmoud`\n",
        "\n",
        "Example Output:\n",
        "\n",
        "`Mahmoud is going to clean the room today!`\n",
        "\n",
        "Hint: str.split in docs"
      ],
      "metadata": {
        "id": "zFsPAuKKCJOt"
      }
    },
    {
      "cell_type": "code",
      "source": [
        "#Ask the names\n",
        "names_combined = input('Names: ')\n",
        "#Split the names\n",
        "names = names_combined.split(', ')\n",
        "#Choose a random number\n",
        "import random\n",
        "rand_number = random.randint(0, len(names)-1)\n",
        "#Choose a random name\n",
        "cleaner = names[rand_number]\n",
        "cleaner"
      ],
      "metadata": {
        "colab": {
          "base_uri": "https://localhost:8080/",
          "height": 54
        },
        "id": "Gj_lFyZ0Bx6_",
        "outputId": "32a7fa2d-2177-4673-8bf0-33d177c0ee44"
      },
      "execution_count": 46,
      "outputs": [
        {
          "name": "stdout",
          "output_type": "stream",
          "text": [
            "Names: Ali, Elnur, Ronaldo, John, David, Mahmoud\n"
          ]
        },
        {
          "output_type": "execute_result",
          "data": {
            "application/vnd.google.colaboratory.intrinsic+json": {
              "type": "string"
            },
            "text/plain": [
              "'David'"
            ]
          },
          "metadata": {},
          "execution_count": 46
        }
      ]
    },
    {
      "cell_type": "code",
      "source": [
        "names"
      ],
      "metadata": {
        "colab": {
          "base_uri": "https://localhost:8080/"
        },
        "id": "SE4gs7K1ED1H",
        "outputId": "9dbc6f88-8408-4b62-eedb-7c3d865ab788"
      },
      "execution_count": 47,
      "outputs": [
        {
          "output_type": "execute_result",
          "data": {
            "text/plain": [
              "['Ali', 'Elnur', 'Ronaldo', 'John', 'David', 'Mahmoud']"
            ]
          },
          "metadata": {},
          "execution_count": 47
        }
      ]
    },
    {
      "cell_type": "code",
      "source": [
        "# alternative method \n",
        "random.choice(names)"
      ],
      "metadata": {
        "colab": {
          "base_uri": "https://localhost:8080/",
          "height": 36
        },
        "id": "X8UD0kDKERct",
        "outputId": "d2ba33ae-751d-4433-d573-9b7078a1c10e"
      },
      "execution_count": 52,
      "outputs": [
        {
          "output_type": "execute_result",
          "data": {
            "application/vnd.google.colaboratory.intrinsic+json": {
              "type": "string"
            },
            "text/plain": [
              "'Ronaldo'"
            ]
          },
          "metadata": {},
          "execution_count": 52
        }
      ]
    },
    {
      "cell_type": "markdown",
      "source": [
        "# Index Errors"
      ],
      "metadata": {
        "id": "1cimM9neEuq_"
      }
    },
    {
      "cell_type": "code",
      "source": [
        "number_of_names = len(names)"
      ],
      "metadata": {
        "id": "OP062pjsEf_D"
      },
      "execution_count": 57,
      "outputs": []
    },
    {
      "cell_type": "code",
      "source": [
        "names[number_of_names]"
      ],
      "metadata": {
        "colab": {
          "base_uri": "https://localhost:8080/",
          "height": 169
        },
        "id": "kqqbPHDvE3iw",
        "outputId": "68c23579-198d-438b-c489-722693a2b860"
      },
      "execution_count": 58,
      "outputs": [
        {
          "output_type": "error",
          "ename": "IndexError",
          "evalue": "ignored",
          "traceback": [
            "\u001b[0;31m---------------------------------------------------------------------------\u001b[0m",
            "\u001b[0;31mIndexError\u001b[0m                                Traceback (most recent call last)",
            "\u001b[0;32m<ipython-input-58-d94746faaaaf>\u001b[0m in \u001b[0;36m<module>\u001b[0;34m()\u001b[0m\n\u001b[0;32m----> 1\u001b[0;31m \u001b[0mnames\u001b[0m\u001b[0;34m[\u001b[0m\u001b[0mnumber_of_names\u001b[0m\u001b[0;34m]\u001b[0m\u001b[0;34m\u001b[0m\u001b[0;34m\u001b[0m\u001b[0m\n\u001b[0m",
            "\u001b[0;31mIndexError\u001b[0m: list index out of range"
          ]
        }
      ]
    },
    {
      "cell_type": "code",
      "source": [
        "names[number_of_names-1]"
      ],
      "metadata": {
        "colab": {
          "base_uri": "https://localhost:8080/",
          "height": 36
        },
        "id": "WMFUu9aiE4yU",
        "outputId": "9402965b-e0ad-4e4b-e978-e3fcec3c28b3"
      },
      "execution_count": 59,
      "outputs": [
        {
          "output_type": "execute_result",
          "data": {
            "application/vnd.google.colaboratory.intrinsic+json": {
              "type": "string"
            },
            "text/plain": [
              "'Mahmoud'"
            ]
          },
          "metadata": {},
          "execution_count": 59
        }
      ]
    },
    {
      "cell_type": "markdown",
      "source": [
        "# Nested Lists"
      ],
      "metadata": {
        "id": "tqODafnMFUti"
      }
    },
    {
      "cell_type": "code",
      "source": [
        "# students = ['Mahmoud', 'Alyssa', 'Deng', 'Anis']\n",
        "girls = ['Alyssa', 'Anis']\n",
        "boys = ['Mahmoud', 'Deng']\n",
        "students = [girls, boys]\n",
        "girls, boys, students"
      ],
      "metadata": {
        "colab": {
          "base_uri": "https://localhost:8080/"
        },
        "id": "iXZ48R4GFHx8",
        "outputId": "f8ea28ee-c580-4806-841c-65ee86a25e34"
      },
      "execution_count": 60,
      "outputs": [
        {
          "output_type": "execute_result",
          "data": {
            "text/plain": [
              "(['Alyssa', 'Anis'],\n",
              " ['Mahmoud', 'Deng'],\n",
              " [['Alyssa', 'Anis'], ['Mahmoud', 'Deng']])"
            ]
          },
          "metadata": {},
          "execution_count": 60
        }
      ]
    },
    {
      "cell_type": "code",
      "source": [
        "students[1]"
      ],
      "metadata": {
        "colab": {
          "base_uri": "https://localhost:8080/",
          "height": 36
        },
        "id": "cSeVBtLTFrPd",
        "outputId": "13da167a-e7f5-40bd-dbd1-569f02593155"
      },
      "execution_count": 62,
      "outputs": [
        {
          "output_type": "execute_result",
          "data": {
            "application/vnd.google.colaboratory.intrinsic+json": {
              "type": "string"
            },
            "text/plain": [
              "'Deng'"
            ]
          },
          "metadata": {},
          "execution_count": 62
        }
      ]
    },
    {
      "cell_type": "code",
      "source": [
        "students[0][1]"
      ],
      "metadata": {
        "colab": {
          "base_uri": "https://localhost:8080/",
          "height": 36
        },
        "id": "qz391D1NFvTm",
        "outputId": "601464f1-4a22-4b23-e607-1ae6ccce4b94"
      },
      "execution_count": 63,
      "outputs": [
        {
          "output_type": "execute_result",
          "data": {
            "application/vnd.google.colaboratory.intrinsic+json": {
              "type": "string"
            },
            "text/plain": [
              "'Anis'"
            ]
          },
          "metadata": {},
          "execution_count": 63
        }
      ]
    },
    {
      "cell_type": "markdown",
      "source": [
        "## Exercise 3: Choose the right name\n",
        "\n",
        "write the code to choose the name Ahmad from the names list printed below."
      ],
      "metadata": {
        "id": "ZkECNgJtGTU2"
      }
    },
    {
      "cell_type": "code",
      "source": [
        "name_row_1 = ['Ashraf', 'Jane', 'David']\n",
        "name_row_2 = ['Ali', 'Elnur', 'Mahmoud']\n",
        "name_row_3 = ['Jeremy', 'Asem', 'Ahmad']\n",
        "names = [name_row_1, name_row_2, name_row_3]\n",
        "print(f'{name_row_1}\\n{name_row_2}\\n{name_row_3}')"
      ],
      "metadata": {
        "colab": {
          "base_uri": "https://localhost:8080/"
        },
        "id": "vQd5Ch-vF1Bg",
        "outputId": "d42aaa88-fa1e-411b-b9f5-1a1f25a462ce"
      },
      "execution_count": 3,
      "outputs": [
        {
          "output_type": "stream",
          "name": "stdout",
          "text": [
            "['Ashraf', 'Jane', 'David']\n",
            "['Ali', 'Elnur', 'Mahmoud']\n",
            "['Jeremy', 'Asem', 'Ahmad']\n"
          ]
        }
      ]
    },
    {
      "cell_type": "code",
      "source": [
        "names[2]"
      ],
      "metadata": {
        "colab": {
          "base_uri": "https://localhost:8080/"
        },
        "id": "QmF0BG9-ofVD",
        "outputId": "37df21ef-af3b-484f-fb41-7e8f4f334f10"
      },
      "execution_count": 6,
      "outputs": [
        {
          "output_type": "execute_result",
          "data": {
            "text/plain": [
              "['Jeremy', 'Asem', 'Ahmad']"
            ]
          },
          "metadata": {},
          "execution_count": 6
        }
      ]
    },
    {
      "cell_type": "code",
      "source": [
        "names[2][2]"
      ],
      "metadata": {
        "colab": {
          "base_uri": "https://localhost:8080/",
          "height": 36
        },
        "id": "P-uFEqbHoxFU",
        "outputId": "8b6c2465-2aee-4067-fa04-cc88be317fe9"
      },
      "execution_count": 7,
      "outputs": [
        {
          "output_type": "execute_result",
          "data": {
            "application/vnd.google.colaboratory.intrinsic+json": {
              "type": "string"
            },
            "text/plain": [
              "'Ahmad'"
            ]
          },
          "metadata": {},
          "execution_count": 7
        }
      ]
    },
    {
      "cell_type": "markdown",
      "source": [
        "# Final Project: Rock, Paper, Scissors\n",
        "Make a rock, paper, scissors game agains computer"
      ],
      "metadata": {
        "id": "p3VnK-7upqZB"
      }
    },
    {
      "cell_type": "markdown",
      "source": [
        "## Solution"
      ],
      "metadata": {
        "id": "sfdaVEbJrAac"
      }
    },
    {
      "cell_type": "code",
      "source": [
        "rock = '''\n",
        "    _______\n",
        "---'   ____)\n",
        "      (_____)\n",
        "      (_____)\n",
        "      (____)\n",
        "---.__(___)\n",
        "'''\n",
        "\n",
        "paper = '''\n",
        "    _______\n",
        "---'   ____)____\n",
        "          ______)\n",
        "          _______)\n",
        "         _______)\n",
        "---.__________)\n",
        "'''\n",
        "\n",
        "scissors = '''\n",
        "    _______\n",
        "---'   ____)____\n",
        "          ______)\n",
        "       __________)\n",
        "      (____)\n",
        "---.__(___)\n",
        "'''"
      ],
      "metadata": {
        "id": "jLdE0e_rq_SU"
      },
      "execution_count": 9,
      "outputs": []
    },
    {
      "cell_type": "code",
      "source": [
        "def rock_paper_game():\n",
        "\n",
        "  user_choice = int(input('Choose one: 0 for Rock, 1 for Paper, 2 for Scissors '))\n",
        "\n",
        "  answers = [rock, paper, scissors]\n",
        "  print('You chose:')\n",
        "  print(answers[user_choice])\n",
        "  import random\n",
        "  computer_choice = random.randint(0,2)\n",
        "  print('Computer chose:')\n",
        "  print(answers[computer_choice])\n",
        "\n",
        "  if user_choice == computer_choice:\n",
        "    print('It is a draw')\n",
        "  elif (user_choice == 0 and computer_choice == 2) or (user_choice == 1 and computer_choice == 0) or (user_choice == 2 and computer_choice == 1):\n",
        "    print('You won!!! Congratulations')\n",
        "  else:\n",
        "    print('You lost!!! Good luck next time!')"
      ],
      "metadata": {
        "id": "WhwfoEqVrIqH"
      },
      "execution_count": 18,
      "outputs": []
    },
    {
      "cell_type": "markdown",
      "source": [
        "## Answer"
      ],
      "metadata": {
        "id": "jYw1-qF_rJk5"
      }
    },
    {
      "cell_type": "code",
      "source": [
        "rock_paper_game()"
      ],
      "metadata": {
        "colab": {
          "base_uri": "https://localhost:8080/"
        },
        "id": "NW1WQt-Vtoa-",
        "outputId": "9e86966f-629f-4b66-bece-509d4a0eff29"
      },
      "execution_count": 19,
      "outputs": [
        {
          "output_type": "stream",
          "name": "stdout",
          "text": [
            "Choose one: 0 for Rock, 1 for Paper, 2 for Scissors 1\n",
            "You chose:\n",
            "\n",
            "    _______\n",
            "---'   ____)____\n",
            "          ______)\n",
            "          _______)\n",
            "         _______)\n",
            "---.__________)\n",
            "\n",
            "Computer chose:\n",
            "\n",
            "    _______\n",
            "---'   ____)\n",
            "      (_____)\n",
            "      (_____)\n",
            "      (____)\n",
            "---.__(___)\n",
            "\n",
            "You won!!! Congratulations\n"
          ]
        }
      ]
    },
    {
      "cell_type": "code",
      "source": [
        "rock = '''\n",
        "    _______\n",
        "---'   ____)\n",
        "      (_____)\n",
        "      (_____)\n",
        "      (____)\n",
        "---.__(___)\n",
        "'''\n",
        "\n",
        "paper = '''\n",
        "    _______\n",
        "---'   ____)____\n",
        "          ______)\n",
        "          _______)\n",
        "         _______)\n",
        "---.__________)\n",
        "'''\n",
        "\n",
        "scissors = '''\n",
        "    _______\n",
        "---'   ____)____\n",
        "          ______)\n",
        "       __________)\n",
        "      (____)\n",
        "---.__(___)\n",
        "'''"
      ],
      "metadata": {
        "id": "DfnVBGWDo5jj"
      },
      "execution_count": 8,
      "outputs": []
    },
    {
      "cell_type": "code",
      "source": [
        "# make a list of possible answers\n",
        "answers = [rock, paper, scissors]\n",
        "\n",
        "# get user choice and print\n",
        "user_choice = int(input('Choose one: 0 for Rock, 1 for Paper, and 2 for Scissors: '))\n",
        "print('You chose:')\n",
        "if user_choice >= 3 or user_choice < 0:\n",
        "  print('You have typed an invalid number, you lost')\n",
        "else:\n",
        "  print(answers[user_choice])\n",
        "\n",
        "  # get computer choice and print\n",
        "  import random\n",
        "  computer_choice = random.randint(0,2)\n",
        "  print('Computer chose:')\n",
        "  print(answers[computer_choice])\n",
        "\n",
        "  # make the conditions\n",
        "  if user_choice == computer_choice:\n",
        "      print('It is a draw')\n",
        "  elif (user_choice == 0 and computer_choice == 2) or (user_choice == 1 and computer_choice == 0) or (user_choice == 2 and computer_choice == 1):\n",
        "    print('You won!!! Congratulations')\n",
        "  else:\n",
        "    print('You lost!!! Good luck next time!')"
      ],
      "metadata": {
        "colab": {
          "base_uri": "https://localhost:8080/"
        },
        "id": "xhV_3xxLtvpk",
        "outputId": "24506101-42e9-44a0-c2dc-3a2a7b2fd28a"
      },
      "execution_count": 30,
      "outputs": [
        {
          "output_type": "stream",
          "name": "stdout",
          "text": [
            "Choose one: 0 for Rock, 1 for Paper, and 2 for Scissors: 5\n",
            "You chose:\n",
            "You have typed an invalid number, you lost\n"
          ]
        }
      ]
    },
    {
      "cell_type": "code",
      "source": [
        ""
      ],
      "metadata": {
        "id": "m_sstHofuZQW"
      },
      "execution_count": null,
      "outputs": []
    }
  ]
}